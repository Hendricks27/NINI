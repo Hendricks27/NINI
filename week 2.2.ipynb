{
 "cells": [
  {
   "cell_type": "code",
   "execution_count": 1,
   "metadata": {},
   "outputs": [
    {
     "name": "stderr",
     "output_type": "stream",
     "text": [
      "/Users/wangrunqiu/anaconda3/lib/python3.6/site-packages/sklearn/ensemble/weight_boosting.py:29: DeprecationWarning: numpy.core.umath_tests is an internal NumPy module and should not be imported. It will be removed in a future NumPy release.\n",
      "  from numpy.core.umath_tests import inner1d\n",
      "/Users/wangrunqiu/anaconda3/lib/python3.6/site-packages/lightgbm/__init__.py:46: UserWarning: Starting from version 2.2.1, the library file in distribution wheels for macOS is built by the Apple Clang (Xcode_9.4.1) compiler.\n",
      "This means that in case of installing LightGBM from PyPI via the ``pip install lightgbm`` command, you don't need to install the gcc compiler anymore.\n",
      "Instead of that, you need to install the OpenMP library, which is required for running LightGBM on the system with the Apple Clang compiler.\n",
      "You can install the OpenMP library by the following command: ``brew install libomp``.\n",
      "  \"You can install the OpenMP library by the following command: ``brew install libomp``.\", UserWarning)\n"
     ]
    }
   ],
   "source": [
    "from sklearn.model_selection import StratifiedKFold, KFold, RepeatedKFold\n",
    "from sklearn.model_selection import train_test_split\n",
    "from sklearn.ensemble import RandomForestRegressor\n",
    "from sklearn.tree import DecisionTreeRegressor\n",
    "from sklearn.preprocessing import StandardScaler\n",
    "from sklearn.metrics import mean_absolute_error\n",
    "from eli5.sklearn import PermutationImportance\n",
    "from catboost import CatBoostRegressor,Pool\n",
    "import matplotlib.patches as patch\n",
    "import matplotlib.pyplot as plt\n",
    "from sklearn.svm import NuSVR\n",
    "from scipy.stats import kurtosis\n",
    "from scipy.stats import skew\n",
    "from scipy.stats import norm\n",
    "from scipy import linalg\n",
    "from sklearn import tree\n",
    "from sklearn import svm\n",
    "import lightgbm as lgb\n",
    "#import xgboost as xgb\n",
    "from tqdm import tqdm\n",
    "import seaborn as sns\n",
    "import pandas as pd\n",
    "import numpy as np\n",
    "import graphviz\n",
    "import warnings\n",
    "import random\n",
    "import eli5\n",
    "import shap  # package used to calculate Shap values\n",
    "import time\n",
    "import glob\n",
    "import sys\n",
    "import os\n",
    "from scipy.signal import hilbert\n",
    "from scipy.signal import hann\n",
    "from scipy.signal import convolve\n",
    "from scipy import stats\n",
    "from sklearn.kernel_ridge import KernelRidge\n",
    "from sklearn.linear_model import LinearRegression"
   ]
  },
  {
   "cell_type": "code",
   "execution_count": 2,
   "metadata": {},
   "outputs": [
    {
     "name": "stdout",
     "output_type": "stream",
     "text": [
      "Reading csv files...\n",
      "Train: rows:629145480 columns:2\n"
     ]
    }
   ],
   "source": [
    "warnings.filterwarnings(\"ignore\")\n",
    "\n",
    "print(\"Reading csv files...\")\n",
    "train = pd.read_csv('./train.csv' , dtype={'acoustic_data': np.int16, 'time_to_failure': np.float32})\n",
    "print(\"Train: rows:{} columns:{}\".format(train.shape[0], train.shape[1]))"
   ]
  },
  {
   "cell_type": "code",
   "execution_count": 4,
   "metadata": {},
   "outputs": [
    {
     "name": "stdout",
     "output_type": "stream",
     "text": [
      "(4194, 1)\n",
      "Reading ends.\n"
     ]
    }
   ],
   "source": [
    "rows = 150_000\n",
    "segments = int(np.floor(train.shape[0] / rows)) # 4194\n",
    "\n",
    "X_train = pd.DataFrame(index=range(segments), dtype=np.float64) # 使用对应的特征\n",
    "y_train = pd.DataFrame(index=range(segments), dtype=np.float64,\n",
    "                       columns=['time_to_failure'])\n",
    "submission = pd.read_csv('./sample_submission.csv', index_col='seg_id')\n",
    "\n",
    "X_train =pd.read_csv('./data/4194samples/X_train_138features_filtered.csv',index_col=0)\n",
    "X_test = pd.read_csv('./data/4194samples/X_test_138features_filtered.csv',index_col=0)\n",
    "\n",
    "#y_train\n",
    "\n",
    "scale = 1  # test:使滑动窗口缩小10倍\n",
    "for segment in range(segments):\n",
    "    # y_train and X_train\n",
    "    #     if segment * rows / scale + rows > train.shape[0]:\n",
    "    #         break\n",
    "    seg = train.iloc[int(segment * rows / scale): int(segment * rows / scale + rows)]\n",
    "    x = pd.Series(seg['acoustic_data'].values)\n",
    "    y = seg['time_to_failure'].values[-1]\n",
    "    y_train.loc[segment, 'time_to_failure'] = y\n",
    "#print(X_train.head())\n",
    "#print(X_test.head())\n",
    "print(y_train.shape)\n",
    "#print(\"submission has: rows:{} cols:{}\".format(submission.shape[0], submission.shape[1]))\n",
    "print(\"Reading ends.\")"
   ]
  },
  {
   "cell_type": "code",
   "execution_count": 5,
   "metadata": {},
   "outputs": [
    {
     "name": "stdout",
     "output_type": "stream",
     "text": [
      "start\n",
      "Remaining variables: ['skew', 'mean_change_abs', 'mean_change_rate_first_10000', 'mean_change_rate_last_10000', 'av_change_abs_roll_std_10', 'av_change_abs_roll_mean_10', 'av_change_abs_roll_std_100', 'av_change_abs_roll_mean_100', 'av_change_abs_roll_std_1000']\n",
      "(4194, 9)\n",
      "(2624, 9)\n",
      "end\n"
     ]
    }
   ],
   "source": [
    "#VIF\n",
    "print('start')\n",
    "from statsmodels.stats.outliers_influence import variance_inflation_factor\n",
    "def filter_column_based_on_VIF(X):\n",
    "    '''X - pandas dataframe'''\n",
    "    thresh = 10.0\n",
    "    variables = list(range(X.shape[1]))\n",
    "        \n",
    "    vif = [variance_inflation_factor(X.values, ix) for ix in range(X.shape[1])]\n",
    "    cols = []\n",
    "    for col, cont in enumerate(vif):\n",
    "        if cont < thresh:\n",
    "            cols.append(X.columns.values[col])\n",
    "    \n",
    "    print('Remaining variables: %s'%cols)\n",
    "    return cols\n",
    "remaining_cols = filter_column_based_on_VIF(X_train)\n",
    "X_train_new = X_train[remaining_cols]\n",
    "X_test_new = X_test[remaining_cols]\n",
    "\n",
    "print(X_train_new.shape)\n",
    "print(X_test_new.shape)\n",
    "print('end')"
   ]
  },
  {
   "cell_type": "code",
   "execution_count": 6,
   "metadata": {},
   "outputs": [
    {
     "name": "stdout",
     "output_type": "stream",
     "text": [
      "FillNA and standardScalar...\n",
      "FillNA and standardScalar ends.\n"
     ]
    }
   ],
   "source": [
    "# 正则化\n",
    "print(\"FillNA and standardScalar...\")\n",
    "means_dict = {}\n",
    "for col in X_train_new.columns:\n",
    "    if X_train_new[col].isnull().any():\n",
    "        print(col)\n",
    "        mean_value = X_train_new.loc[X_train_new[col] != -np.inf, col].mean()\n",
    "        X_train_new.loc[X_train_new[col] == -np.inf, col] = mean_value\n",
    "        X_train_new[col] = X_train_new[col].fillna(mean_value)\n",
    "        means_dict[col] = mean_value\n",
    "\n",
    "for col in X_test_new.columns:\n",
    "    if X_test_new[col].isnull().any():\n",
    "        X_test_new.loc[X_test_new[col] == -np.inf, col] = means_dict[col]\n",
    "        X_test_new[col] = X_test_new[col].fillna(means_dict[col])\n",
    "\n",
    "X = X_train_new.copy()\n",
    "y = y_train.copy()\n",
    "train_X, val_X, train_y, val_y = train_test_split(X, y, random_state=1)\n",
    "scaler = StandardScaler()\n",
    "scaler.fit(X_train_new)\n",
    "X_train_scaled = pd.DataFrame(scaler.transform(X_train_new), columns=X_train_new.columns)\n",
    "X_test_scaled = pd.DataFrame(scaler.transform(X_test_new), columns=X_test_new.columns)\n",
    "print(\"FillNA and standardScalar ends.\")"
   ]
  },
  {
   "cell_type": "code",
   "execution_count": 7,
   "metadata": {
    "collapsed": true
   },
   "outputs": [],
   "source": [
    "#cross validation\n",
    "n_fold = 5\n",
    "folds = KFold(n_splits=n_fold, shuffle=True, random_state=11)\n",
    "X=X_train_scaled\n",
    "X_test=X_test_scaled\n",
    "y=y_train\n",
    "oof = np.zeros(len(X))\n",
    "prediction = np.zeros(len(X_test))\n",
    "scores = []\n",
    "feature_importance = pd.DataFrame()"
   ]
  },
  {
   "cell_type": "code",
   "execution_count": 8,
   "metadata": {},
   "outputs": [
    {
     "name": "stdout",
     "output_type": "stream",
     "text": [
      "start\n",
      "{'n_estimators': 8}\n",
      "0.0665546518866079\n",
      "end\n",
      "start\n",
      "{'max_depth': 4, 'min_samples_leaf': 46, 'min_samples_split': 9}\n",
      "0.21490697655000435\n",
      "end\n",
      "start\n",
      "2.5405896252233964\n",
      "end\n"
     ]
    }
   ],
   "source": [
    "print('start')\n",
    "from sklearn.model_selection import GridSearchCV\n",
    "param_test1 = {'n_estimators':range(1,9,1)}\n",
    "gsearch1 = GridSearchCV(estimator = RandomForestRegressor(), param_grid = param_test1, scoring=None,cv=5)\n",
    "gsearch1.fit(X,y)\n",
    "GridSearchCV(cv=5, error_score='raise',estimator=RandomForestRegressor(bootstrap=True,criterion='mae',\n",
    "            max_depth=None, max_features='auto', max_leaf_nodes=None,\n",
    "            min_impurity_split=1e-07, min_samples_leaf=1,\n",
    "            min_samples_split=2, min_weight_fraction_leaf=0.0,\n",
    "            n_estimators=10, n_jobs=1, oob_score=False, random_state=None,\n",
    "            verbose=0, warm_start=False),\n",
    "       fit_params={}, iid=True, n_jobs=1,\n",
    "       param_grid={'n_estimators': range(10, 71, 10)},\n",
    "       pre_dispatch='2*n_jobs', refit=True, return_train_score=True,\n",
    "       scoring='none', verbose=0)\n",
    "\n",
    "print(gsearch1.best_params_)\n",
    "print(gsearch1.best_score_)\n",
    "print('end')\n",
    "\n"
   ]
  },
  {
   "cell_type": "code",
   "execution_count": null,
   "metadata": {
    "collapsed": true
   },
   "outputs": [],
   "source": []
  }
 ],
 "metadata": {
  "kernelspec": {
   "display_name": "Python 3",
   "language": "python",
   "name": "python3"
  },
  "language_info": {
   "codemirror_mode": {
    "name": "ipython",
    "version": 3
   },
   "file_extension": ".py",
   "mimetype": "text/x-python",
   "name": "python",
   "nbconvert_exporter": "python",
   "pygments_lexer": "ipython3",
   "version": "3.6.4"
  }
 },
 "nbformat": 4,
 "nbformat_minor": 2
}
