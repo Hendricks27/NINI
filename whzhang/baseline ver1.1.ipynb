{
 "cells": [
  {
   "cell_type": "markdown",
   "metadata": {},
   "source": [
    "### Load Packages"
   ]
  },
  {
   "cell_type": "code",
   "execution_count": 2,
   "metadata": {},
   "outputs": [],
   "source": [
    "import gc\n",
    "import os\n",
    "import time\n",
    "import logging\n",
    "import datetime\n",
    "import warnings\n",
    "import numpy as np\n",
    "import pandas as pd\n",
    "from tqdm import tqdm\n",
    "import seaborn as sns\n",
    "import xgboost as xgb\n",
    "import lightgbm as lgb\n",
    "from scipy import stats\n",
    "from scipy.signal import hann\n",
    "from tqdm import tqdm_notebook\n",
    "import matplotlib.pyplot as plt\n",
    "from scipy.signal import hilbert\n",
    "from scipy.signal import convolve\n",
    "from sklearn.svm import NuSVR, SVR\n",
    "from catboost import CatBoostRegressor\n",
    "from sklearn.kernel_ridge import KernelRidge\n",
    "from sklearn.metrics import mean_squared_error\n",
    "from sklearn.preprocessing import LabelEncoder\n",
    "from sklearn.metrics import mean_absolute_error\n",
    "from sklearn.preprocessing import StandardScaler\n",
    "from sklearn.linear_model import LinearRegression\n",
    "from sklearn.model_selection import train_test_split\n",
    "from sklearn.model_selection import KFold,StratifiedKFold, RepeatedKFold\n",
    "warnings.filterwarnings(\"ignore\")"
   ]
  },
  {
   "cell_type": "markdown",
   "metadata": {},
   "source": [
    "### Load data"
   ]
  },
  {
   "cell_type": "code",
   "execution_count": 3,
   "metadata": {},
   "outputs": [
    {
     "ename": "KeyboardInterrupt",
     "evalue": "",
     "output_type": "error",
     "traceback": [
      "\u001b[1;31m---------------------------------------------------------------------------\u001b[0m",
      "\u001b[1;31mKeyboardInterrupt\u001b[0m                         Traceback (most recent call last)",
      "\u001b[1;32m<ipython-input-3-e9fa0b6ecf75>\u001b[0m in \u001b[0;36m<module>\u001b[1;34m\u001b[0m\n\u001b[0;32m      1\u001b[0m \u001b[1;31m# Load train file\u001b[0m\u001b[1;33m\u001b[0m\u001b[1;33m\u001b[0m\u001b[1;33m\u001b[0m\u001b[0m\n\u001b[1;32m----> 2\u001b[1;33m \u001b[0mtrain\u001b[0m \u001b[1;33m=\u001b[0m \u001b[0mpd\u001b[0m\u001b[1;33m.\u001b[0m\u001b[0mread_csv\u001b[0m\u001b[1;33m(\u001b[0m\u001b[0mos\u001b[0m\u001b[1;33m.\u001b[0m\u001b[0mpath\u001b[0m\u001b[1;33m.\u001b[0m\u001b[0mjoin\u001b[0m\u001b[1;33m(\u001b[0m\u001b[1;34m'D:/NINI data/data'\u001b[0m\u001b[1;33m,\u001b[0m\u001b[1;34m'train.csv'\u001b[0m\u001b[1;33m)\u001b[0m\u001b[1;33m,\u001b[0m \u001b[0mdtype\u001b[0m\u001b[1;33m=\u001b[0m\u001b[1;33m{\u001b[0m\u001b[1;34m'acoustic_data'\u001b[0m\u001b[1;33m:\u001b[0m \u001b[0mnp\u001b[0m\u001b[1;33m.\u001b[0m\u001b[0mint16\u001b[0m\u001b[1;33m,\u001b[0m \u001b[1;34m'time_to_failure'\u001b[0m\u001b[1;33m:\u001b[0m \u001b[0mnp\u001b[0m\u001b[1;33m.\u001b[0m\u001b[0mfloat32\u001b[0m\u001b[1;33m}\u001b[0m\u001b[1;33m)\u001b[0m\u001b[1;33m\u001b[0m\u001b[1;33m\u001b[0m\u001b[0m\n\u001b[0m",
      "\u001b[1;32m~\\Anaconda3\\lib\\site-packages\\pandas\\io\\parsers.py\u001b[0m in \u001b[0;36mparser_f\u001b[1;34m(filepath_or_buffer, sep, delimiter, header, names, index_col, usecols, squeeze, prefix, mangle_dupe_cols, dtype, engine, converters, true_values, false_values, skipinitialspace, skiprows, nrows, na_values, keep_default_na, na_filter, verbose, skip_blank_lines, parse_dates, infer_datetime_format, keep_date_col, date_parser, dayfirst, iterator, chunksize, compression, thousands, decimal, lineterminator, quotechar, quoting, escapechar, comment, encoding, dialect, tupleize_cols, error_bad_lines, warn_bad_lines, skipfooter, doublequote, delim_whitespace, low_memory, memory_map, float_precision)\u001b[0m\n\u001b[0;32m    676\u001b[0m                     skip_blank_lines=skip_blank_lines)\n\u001b[0;32m    677\u001b[0m \u001b[1;33m\u001b[0m\u001b[0m\n\u001b[1;32m--> 678\u001b[1;33m         \u001b[1;32mreturn\u001b[0m \u001b[0m_read\u001b[0m\u001b[1;33m(\u001b[0m\u001b[0mfilepath_or_buffer\u001b[0m\u001b[1;33m,\u001b[0m \u001b[0mkwds\u001b[0m\u001b[1;33m)\u001b[0m\u001b[1;33m\u001b[0m\u001b[1;33m\u001b[0m\u001b[0m\n\u001b[0m\u001b[0;32m    679\u001b[0m \u001b[1;33m\u001b[0m\u001b[0m\n\u001b[0;32m    680\u001b[0m     \u001b[0mparser_f\u001b[0m\u001b[1;33m.\u001b[0m\u001b[0m__name__\u001b[0m \u001b[1;33m=\u001b[0m \u001b[0mname\u001b[0m\u001b[1;33m\u001b[0m\u001b[1;33m\u001b[0m\u001b[0m\n",
      "\u001b[1;32m~\\Anaconda3\\lib\\site-packages\\pandas\\io\\parsers.py\u001b[0m in \u001b[0;36m_read\u001b[1;34m(filepath_or_buffer, kwds)\u001b[0m\n\u001b[0;32m    444\u001b[0m \u001b[1;33m\u001b[0m\u001b[0m\n\u001b[0;32m    445\u001b[0m     \u001b[1;32mtry\u001b[0m\u001b[1;33m:\u001b[0m\u001b[1;33m\u001b[0m\u001b[1;33m\u001b[0m\u001b[0m\n\u001b[1;32m--> 446\u001b[1;33m         \u001b[0mdata\u001b[0m \u001b[1;33m=\u001b[0m \u001b[0mparser\u001b[0m\u001b[1;33m.\u001b[0m\u001b[0mread\u001b[0m\u001b[1;33m(\u001b[0m\u001b[0mnrows\u001b[0m\u001b[1;33m)\u001b[0m\u001b[1;33m\u001b[0m\u001b[1;33m\u001b[0m\u001b[0m\n\u001b[0m\u001b[0;32m    447\u001b[0m     \u001b[1;32mfinally\u001b[0m\u001b[1;33m:\u001b[0m\u001b[1;33m\u001b[0m\u001b[1;33m\u001b[0m\u001b[0m\n\u001b[0;32m    448\u001b[0m         \u001b[0mparser\u001b[0m\u001b[1;33m.\u001b[0m\u001b[0mclose\u001b[0m\u001b[1;33m(\u001b[0m\u001b[1;33m)\u001b[0m\u001b[1;33m\u001b[0m\u001b[1;33m\u001b[0m\u001b[0m\n",
      "\u001b[1;32m~\\Anaconda3\\lib\\site-packages\\pandas\\io\\parsers.py\u001b[0m in \u001b[0;36mread\u001b[1;34m(self, nrows)\u001b[0m\n\u001b[0;32m   1034\u001b[0m                 \u001b[1;32mraise\u001b[0m \u001b[0mValueError\u001b[0m\u001b[1;33m(\u001b[0m\u001b[1;34m'skipfooter not supported for iteration'\u001b[0m\u001b[1;33m)\u001b[0m\u001b[1;33m\u001b[0m\u001b[1;33m\u001b[0m\u001b[0m\n\u001b[0;32m   1035\u001b[0m \u001b[1;33m\u001b[0m\u001b[0m\n\u001b[1;32m-> 1036\u001b[1;33m         \u001b[0mret\u001b[0m \u001b[1;33m=\u001b[0m \u001b[0mself\u001b[0m\u001b[1;33m.\u001b[0m\u001b[0m_engine\u001b[0m\u001b[1;33m.\u001b[0m\u001b[0mread\u001b[0m\u001b[1;33m(\u001b[0m\u001b[0mnrows\u001b[0m\u001b[1;33m)\u001b[0m\u001b[1;33m\u001b[0m\u001b[1;33m\u001b[0m\u001b[0m\n\u001b[0m\u001b[0;32m   1037\u001b[0m \u001b[1;33m\u001b[0m\u001b[0m\n\u001b[0;32m   1038\u001b[0m         \u001b[1;31m# May alter columns / col_dict\u001b[0m\u001b[1;33m\u001b[0m\u001b[1;33m\u001b[0m\u001b[1;33m\u001b[0m\u001b[0m\n",
      "\u001b[1;32m~\\Anaconda3\\lib\\site-packages\\pandas\\io\\parsers.py\u001b[0m in \u001b[0;36mread\u001b[1;34m(self, nrows)\u001b[0m\n\u001b[0;32m   1846\u001b[0m     \u001b[1;32mdef\u001b[0m \u001b[0mread\u001b[0m\u001b[1;33m(\u001b[0m\u001b[0mself\u001b[0m\u001b[1;33m,\u001b[0m \u001b[0mnrows\u001b[0m\u001b[1;33m=\u001b[0m\u001b[1;32mNone\u001b[0m\u001b[1;33m)\u001b[0m\u001b[1;33m:\u001b[0m\u001b[1;33m\u001b[0m\u001b[1;33m\u001b[0m\u001b[0m\n\u001b[0;32m   1847\u001b[0m         \u001b[1;32mtry\u001b[0m\u001b[1;33m:\u001b[0m\u001b[1;33m\u001b[0m\u001b[1;33m\u001b[0m\u001b[0m\n\u001b[1;32m-> 1848\u001b[1;33m             \u001b[0mdata\u001b[0m \u001b[1;33m=\u001b[0m \u001b[0mself\u001b[0m\u001b[1;33m.\u001b[0m\u001b[0m_reader\u001b[0m\u001b[1;33m.\u001b[0m\u001b[0mread\u001b[0m\u001b[1;33m(\u001b[0m\u001b[0mnrows\u001b[0m\u001b[1;33m)\u001b[0m\u001b[1;33m\u001b[0m\u001b[1;33m\u001b[0m\u001b[0m\n\u001b[0m\u001b[0;32m   1849\u001b[0m         \u001b[1;32mexcept\u001b[0m \u001b[0mStopIteration\u001b[0m\u001b[1;33m:\u001b[0m\u001b[1;33m\u001b[0m\u001b[1;33m\u001b[0m\u001b[0m\n\u001b[0;32m   1850\u001b[0m             \u001b[1;32mif\u001b[0m \u001b[0mself\u001b[0m\u001b[1;33m.\u001b[0m\u001b[0m_first_chunk\u001b[0m\u001b[1;33m:\u001b[0m\u001b[1;33m\u001b[0m\u001b[1;33m\u001b[0m\u001b[0m\n",
      "\u001b[1;32mpandas\\_libs\\parsers.pyx\u001b[0m in \u001b[0;36mpandas._libs.parsers.TextReader.read\u001b[1;34m()\u001b[0m\n",
      "\u001b[1;32mpandas\\_libs\\parsers.pyx\u001b[0m in \u001b[0;36mpandas._libs.parsers.TextReader._read_low_memory\u001b[1;34m()\u001b[0m\n",
      "\u001b[1;32mpandas\\_libs\\parsers.pyx\u001b[0m in \u001b[0;36mpandas._libs.parsers.TextReader._read_rows\u001b[1;34m()\u001b[0m\n",
      "\u001b[1;32mpandas\\_libs\\parsers.pyx\u001b[0m in \u001b[0;36mpandas._libs.parsers.TextReader._convert_column_data\u001b[1;34m()\u001b[0m\n",
      "\u001b[1;32mpandas\\_libs\\parsers.pyx\u001b[0m in \u001b[0;36mpandas._libs.parsers.TextReader._convert_tokens\u001b[1;34m()\u001b[0m\n",
      "\u001b[1;32mpandas\\_libs\\parsers.pyx\u001b[0m in \u001b[0;36mpandas._libs.parsers.TextReader._convert_with_dtype\u001b[1;34m()\u001b[0m\n",
      "\u001b[1;32m~\\Anaconda3\\lib\\site-packages\\pandas\\core\\dtypes\\common.py\u001b[0m in \u001b[0;36mis_integer_dtype\u001b[1;34m(arr_or_dtype)\u001b[0m\n\u001b[0;32m    809\u001b[0m \u001b[1;33m\u001b[0m\u001b[0m\n\u001b[0;32m    810\u001b[0m \u001b[1;33m\u001b[0m\u001b[0m\n\u001b[1;32m--> 811\u001b[1;33m \u001b[1;32mdef\u001b[0m \u001b[0mis_integer_dtype\u001b[0m\u001b[1;33m(\u001b[0m\u001b[0marr_or_dtype\u001b[0m\u001b[1;33m)\u001b[0m\u001b[1;33m:\u001b[0m\u001b[1;33m\u001b[0m\u001b[1;33m\u001b[0m\u001b[0m\n\u001b[0m\u001b[0;32m    812\u001b[0m     \"\"\"\n\u001b[0;32m    813\u001b[0m     \u001b[0mCheck\u001b[0m \u001b[0mwhether\u001b[0m \u001b[0mthe\u001b[0m \u001b[0mprovided\u001b[0m \u001b[0marray\u001b[0m \u001b[1;32mor\u001b[0m \u001b[0mdtype\u001b[0m \u001b[1;32mis\u001b[0m \u001b[0mof\u001b[0m \u001b[0man\u001b[0m \u001b[0minteger\u001b[0m \u001b[0mdtype\u001b[0m\u001b[1;33m.\u001b[0m\u001b[1;33m\u001b[0m\u001b[1;33m\u001b[0m\u001b[0m\n",
      "\u001b[1;31mKeyboardInterrupt\u001b[0m: "
     ]
    }
   ],
   "source": [
    "# Load train file\n",
    "train = pd.read_csv(os.path.join('D:/NINI data/data','train.csv'), dtype={'acoustic_data': np.int16, 'time_to_failure': np.float32})"
   ]
  },
  {
   "cell_type": "code",
   "execution_count": 3,
   "metadata": {},
   "outputs": [
    {
     "data": {
      "text/html": [
       "<div>\n",
       "<style scoped>\n",
       "    .dataframe tbody tr th:only-of-type {\n",
       "        vertical-align: middle;\n",
       "    }\n",
       "\n",
       "    .dataframe tbody tr th {\n",
       "        vertical-align: top;\n",
       "    }\n",
       "\n",
       "    .dataframe thead th {\n",
       "        text-align: right;\n",
       "    }\n",
       "</style>\n",
       "<table border=\"1\" class=\"dataframe\">\n",
       "  <thead>\n",
       "    <tr style=\"text-align: right;\">\n",
       "      <th></th>\n",
       "      <th>acoustic_data</th>\n",
       "      <th>time_to_failure</th>\n",
       "    </tr>\n",
       "  </thead>\n",
       "  <tbody>\n",
       "    <tr>\n",
       "      <th>0</th>\n",
       "      <td>12</td>\n",
       "      <td>1.4691</td>\n",
       "    </tr>\n",
       "    <tr>\n",
       "      <th>1</th>\n",
       "      <td>6</td>\n",
       "      <td>1.4691</td>\n",
       "    </tr>\n",
       "    <tr>\n",
       "      <th>2</th>\n",
       "      <td>8</td>\n",
       "      <td>1.4691</td>\n",
       "    </tr>\n",
       "    <tr>\n",
       "      <th>3</th>\n",
       "      <td>5</td>\n",
       "      <td>1.4691</td>\n",
       "    </tr>\n",
       "    <tr>\n",
       "      <th>4</th>\n",
       "      <td>8</td>\n",
       "      <td>1.4691</td>\n",
       "    </tr>\n",
       "  </tbody>\n",
       "</table>\n",
       "</div>"
      ],
      "text/plain": [
       "   acoustic_data  time_to_failure\n",
       "0             12           1.4691\n",
       "1              6           1.4691\n",
       "2              8           1.4691\n",
       "3              5           1.4691\n",
       "4              8           1.4691"
      ]
     },
     "execution_count": 3,
     "metadata": {},
     "output_type": "execute_result"
    }
   ],
   "source": [
    "train.head()"
   ]
  },
  {
   "cell_type": "code",
   "execution_count": 22,
   "metadata": {},
   "outputs": [
    {
     "name": "stdout",
     "output_type": "stream",
     "text": [
      "Train has: rows:629145480 cols:2\n"
     ]
    }
   ],
   "source": [
    "print(\"Train has: rows:{} cols:{}\".format(train.shape[0], train.shape[1]))"
   ]
  },
  {
   "cell_type": "code",
   "execution_count": 19,
   "metadata": {},
   "outputs": [
    {
     "data": {
      "text/html": [
       "<div>\n",
       "<style scoped>\n",
       "    .dataframe tbody tr th:only-of-type {\n",
       "        vertical-align: middle;\n",
       "    }\n",
       "\n",
       "    .dataframe tbody tr th {\n",
       "        vertical-align: top;\n",
       "    }\n",
       "\n",
       "    .dataframe thead th {\n",
       "        text-align: right;\n",
       "    }\n",
       "</style>\n",
       "<table border=\"1\" class=\"dataframe\">\n",
       "  <thead>\n",
       "    <tr style=\"text-align: right;\">\n",
       "      <th></th>\n",
       "      <th>time_to_failure</th>\n",
       "    </tr>\n",
       "    <tr>\n",
       "      <th>seg_id</th>\n",
       "      <th></th>\n",
       "    </tr>\n",
       "  </thead>\n",
       "  <tbody>\n",
       "    <tr>\n",
       "      <th>seg_00030f</th>\n",
       "      <td>0</td>\n",
       "    </tr>\n",
       "    <tr>\n",
       "      <th>seg_0012b5</th>\n",
       "      <td>0</td>\n",
       "    </tr>\n",
       "    <tr>\n",
       "      <th>seg_00184e</th>\n",
       "      <td>0</td>\n",
       "    </tr>\n",
       "    <tr>\n",
       "      <th>seg_003339</th>\n",
       "      <td>0</td>\n",
       "    </tr>\n",
       "    <tr>\n",
       "      <th>seg_0042cc</th>\n",
       "      <td>0</td>\n",
       "    </tr>\n",
       "  </tbody>\n",
       "</table>\n",
       "</div>"
      ],
      "text/plain": [
       "            time_to_failure\n",
       "seg_id                     \n",
       "seg_00030f                0\n",
       "seg_0012b5                0\n",
       "seg_00184e                0\n",
       "seg_003339                0\n",
       "seg_0042cc                0"
      ]
     },
     "execution_count": 19,
     "metadata": {},
     "output_type": "execute_result"
    }
   ],
   "source": [
    "#Load submission file\n",
    "submission = pd.read_csv('D:/NINI data/data/sample_submission.csv', index_col='seg_id')\n",
    "submission.head()"
   ]
  },
  {
   "cell_type": "code",
   "execution_count": 24,
   "metadata": {},
   "outputs": [
    {
     "name": "stdout",
     "output_type": "stream",
     "text": [
      "submission has: rows:2624 cols:1\n"
     ]
    }
   ],
   "source": [
    "print(\"submission has: rows:{} cols:{}\".format(submission.shape[0], submission.shape[1]))"
   ]
  },
  {
   "cell_type": "markdown",
   "metadata": {},
   "source": [
    "There are 2624 files in test"
   ]
  },
  {
   "cell_type": "code",
   "execution_count": 25,
   "metadata": {},
   "outputs": [
    {
     "data": {
      "text/plain": [
       "2624"
      ]
     },
     "execution_count": 25,
     "metadata": {},
     "output_type": "execute_result"
    }
   ],
   "source": [
    "len(os.listdir(os.path.join('D:/NINI data/data', 'test')))"
   ]
  },
  {
   "cell_type": "code",
   "execution_count": 26,
   "metadata": {},
   "outputs": [
    {
     "name": "stdout",
     "output_type": "stream",
     "text": [
      "<class 'pandas.core.frame.DataFrame'>\n",
      "RangeIndex: 629145480 entries, 0 to 629145479\n",
      "Data columns (total 2 columns):\n",
      "acoustic_data      int16\n",
      "time_to_failure    float32\n",
      "dtypes: float32(1), int16(1)\n",
      "memory usage: 3.5 GB\n"
     ]
    }
   ],
   "source": [
    "train.info()"
   ]
  },
  {
   "cell_type": "markdown",
   "metadata": {},
   "source": [
    "### Visualization  \n",
    "Let's plot 1% of the data. For this we will sample every 100 points of data."
   ]
  },
  {
   "cell_type": "code",
   "execution_count": 35,
   "metadata": {},
   "outputs": [
    {
     "data": {
      "image/png": "[encoded data removed]",
      "text/plain": [
       "<Figure size 864x576 with 2 Axes>"
      ]
     },
     "metadata": {
      "needs_background": "light"
     },
     "output_type": "display_data"
    }
   ],
   "source": [
    "train_ad_sample = train['acoustic_data'].values[::100]\n",
    "train_ttf_sample = train['time_to_failure'].values[::100]\n",
    "\n",
    "def plot_acc_ttf_data(train_ad_sample, train_ttf_sample, title=\"Acoustic data and time to failure: 1% sampled data\"):\n",
    "    fig, ax1 = plt.subplots(figsize=(12, 8))\n",
    "    plt.title(title)\n",
    "    plt.plot(train_ad_sample, color='r')\n",
    "    ax1.set_ylabel('acoustic data', color='r')\n",
    "    plt.legend(['acoustic data'], loc=(0.01, 0.95))\n",
    "    ax2 = ax1.twinx()\n",
    "    plt.plot(train_ttf_sample, color='b')\n",
    "    ax2.set_ylabel('time to failure', color='b')\n",
    "    plt.legend(['time to failure'], loc=(0.01, 0.9))\n",
    "    plt.grid(True)\n",
    "\n",
    "plot_acc_ttf_data(train_ad_sample, train_ttf_sample)\n",
    "del train_ad_sample\n",
    "del train_ttf_sample"
   ]
  },
  {
   "cell_type": "markdown",
   "metadata": {},
   "source": [
    "The acoustic data shows complex oscilations with variable amplitude. Just before each failure there is an increase in the amplitude of the acoustic data. We see that large amplitudes are also obtained at different moments in time (for example about the mid-time between two succesive failures).  \n",
    "\n",
    "Let's plot as well the first 1% of the data"
   ]
  },
  {
   "cell_type": "code",
   "execution_count": 36,
   "metadata": {},
   "outputs": [
    {
     "data": {
      "image/png": "[encoded data removed]",
      "text/plain": [
       "<Figure size 864x576 with 2 Axes>"
      ]
     },
     "metadata": {
      "needs_background": "light"
     },
     "output_type": "display_data"
    }
   ],
   "source": [
    "train_ad_sample = train['acoustic_data'].values[:6291455]\n",
    "train_ttf_sample = train['time_to_failure'].values[:6291455]\n",
    "plot_acc_ttf_data(train_ad_sample, train_ttf_sample, title=\"Acoustic data and time to failure: 1% of data\")\n",
    "del train_ad_sample\n",
    "del train_ttf_sample"
   ]
  },
  {
   "cell_type": "markdown",
   "metadata": {},
   "source": [
    "### Data preprocessing\n",
    "Because we have only one feature(**acoustic_data**), and the size of the training set is very large( more that 60000000 rows), it is a good idea to reduce the size of the training set with **making new segment** and also to **increase the number of attributes by using statistical attributes.**\n",
    "\n",
    "这里直接用王意天同学处理好的train和test数据  \n",
    "以下直接复制黏贴王意天同学处理的代码，没有运行"
   ]
  },
  {
   "cell_type": "code",
   "execution_count": 40,
   "metadata": {},
   "outputs": [
    {
     "name": "stdout",
     "output_type": "stream",
     "text": [
      "4194\n"
     ]
    }
   ],
   "source": [
    "rows = 150000\n",
    "segments = int(np.floor(train.shape[0] / rows))\n",
    "print(segments)"
   ]
  },
  {
   "cell_type": "code",
   "execution_count": 41,
   "metadata": {},
   "outputs": [],
   "source": [
    "X_train = pd.DataFrame(index=range(segments), dtype=np.float64) # 使用对应的特征\n",
    "y_train = pd.DataFrame(index=range(segments), dtype=np.float64,\n",
    "                       columns=['time_to_failure'])"
   ]
  },
  {
   "cell_type": "markdown",
   "metadata": {},
   "source": [
    "Here define some functions"
   ]
  },
  {
   "cell_type": "code",
   "execution_count": null,
   "metadata": {},
   "outputs": [],
   "source": [
    "def calc_change_rate(x):\n",
    "    change = (np.diff(x) / x[:-1]).values\n",
    "    change = change[np.nonzero(change)[0]]  # 因为会返回tuple，所以要加[0]\n",
    "    change = change[~np.isnan(change)]\n",
    "    change = change[change != -np.inf]\n",
    "    change = change[change != np.inf]\n",
    "    return np.mean(change)\n",
    "\n",
    "\n",
    "def classic_sta_lta(x, length_sta, length_lta):\n",
    "    sta = np.cumsum(x ** 2)\n",
    "    # Convert to float\n",
    "    sta = np.require(sta, dtype=np.float)\n",
    "\n",
    "    # Copy for LTA\n",
    "    lta = sta.copy()\n",
    "\n",
    "    # Compute the STA and the LTA\n",
    "    sta[length_sta:] = sta[length_sta:] - sta[:-length_sta]\n",
    "    sta /= length_sta\n",
    "    lta[length_lta:] = lta[length_lta:] - lta[:-length_lta]\n",
    "    lta /= length_lta\n",
    "\n",
    "    # Pad zeros\n",
    "    sta[:length_lta - 1] = 0\n",
    "\n",
    "    # Avoid division by zero by setting zero values to tiny float\n",
    "    dtiny = np.finfo(0.0).tiny\n",
    "    idx = lta < dtiny\n",
    "    lta[idx] = dtiny\n",
    "\n",
    "    return sta / lta\n",
    "\n",
    "\n",
    "# y = ax + b, solve a\n",
    "def add_trend_feature(arr, abs_values=False):\n",
    "    idx = np.array(range(len(arr)))\n",
    "    if abs_values:\n",
    "        arr = np.abs(arr)\n",
    "    lr = LinearRegression()\n",
    "    lr.fit(idx.reshape(-1, 1), arr)\n",
    "    return lr.coef_[0]"
   ]
  },
  {
   "cell_type": "markdown",
   "metadata": {},
   "source": [
    "Deal with X_train and y_train"
   ]
  },
  {
   "cell_type": "code",
   "execution_count": null,
   "metadata": {},
   "outputs": [],
   "source": [
    "scale = 1  # test:使滑动窗口缩小10倍\n",
    "for segment in range(segments):\n",
    "    # y_train and X_train\n",
    "    #     if segment * rows / scale + rows > train.shape[0]:\n",
    "    #         break\n",
    "    seg = train.iloc[int(segment * rows / scale): int(segment * rows / scale + rows)]\n",
    "    x = pd.Series(seg['acoustic_data'].values)\n",
    "    y = seg['time_to_failure'].values[-1]  # 只取倒数第一个值，只过了0.0375s, 如果遇到阶跃怎么办？\n",
    "\n",
    "    y_train.loc[segment, 'time_to_failure'] = y  # y_train\n",
    "    X_train.loc[segment, 'ave'] = x.mean()\n",
    "    X_train.loc[segment, 'std'] = x.std()\n",
    "    X_train.loc[segment, 'max'] = x.max()\n",
    "    X_train.loc[segment, 'min'] = x.min()\n",
    "    X_train.loc[segment, 'sum'] = x.sum()\n",
    "    X_train.loc[segment, 'skew'] = skew(x)\n",
    "    X_train.loc[segment, 'kurt'] = kurtosis(x)\n",
    "    X_train.loc[segment, 'mad'] = x.mad()\n",
    "    X_train.loc[segment, 'med'] = x.median()\n",
    "\n",
    "    X_train.loc[segment, 'mean_change_abs'] = np.mean(np.diff(x))\n",
    "    X_train.loc[segment, 'mean_change_rate'] = calc_change_rate(x)\n",
    "    X_train.loc[segment, 'abs_max'] = np.abs(x).max()\n",
    "    X_train.loc[segment, 'abs_min'] = np.abs(x).min()\n",
    "\n",
    "    X_train.loc[segment, 'std_first_50000'] = x[:50000].std()\n",
    "    X_train.loc[segment, 'std_last_50000'] = x[-50000:].std()\n",
    "    X_train.loc[segment, 'std_first_10000'] = x[:10000].std()\n",
    "    X_train.loc[segment, 'std_last_10000'] = x[-10000:].std()\n",
    "\n",
    "    X_train.loc[segment, 'avg_first_50000'] = x[:50000].mean()\n",
    "    X_train.loc[segment, 'avg_last_50000'] = x[-50000:].mean()\n",
    "    X_train.loc[segment, 'avg_first_10000'] = x[:10000].mean()\n",
    "    X_train.loc[segment, 'avg_last_10000'] = x[-10000:].mean()\n",
    "\n",
    "    X_train.loc[segment, 'min_first_50000'] = x[:50000].min()\n",
    "    X_train.loc[segment, 'min_last_50000'] = x[-50000:].min()\n",
    "    X_train.loc[segment, 'min_first_10000'] = x[:10000].min()\n",
    "    X_train.loc[segment, 'min_last_10000'] = x[-10000:].min()\n",
    "\n",
    "    X_train.loc[segment, 'max_first_50000'] = x[:50000].max()\n",
    "    X_train.loc[segment, 'max_last_50000'] = x[-50000:].max()\n",
    "    X_train.loc[segment, 'max_first_10000'] = x[:10000].max()\n",
    "    X_train.loc[segment, 'max_last_10000'] = x[-10000:].max()\n",
    "\n",
    "    X_train.loc[segment, 'max_to_min'] = x.max() / np.abs(x.min())\n",
    "    X_train.loc[segment, 'max_to_min_diff'] = x.max() - np.abs(x.min())\n",
    "    X_train.loc[segment, 'count_big'] = len(x[np.abs(x) > 500])\n",
    "\n",
    "    X_train.loc[segment, 'mean_change_rate_first_50000'] = calc_change_rate(x[:50000])\n",
    "    X_train.loc[segment, 'mean_change_rate_last_50000'] = calc_change_rate(x[-50000:])\n",
    "    X_train.loc[segment, 'mean_change_rate_first_10000'] = calc_change_rate(x[:10000])\n",
    "    X_train.loc[segment, 'mean_change_rate_last_10000'] = calc_change_rate(x[-10000:])\n",
    "\n",
    "    X_train.loc[segment, 'q95'] = np.quantile(x, 0.95)\n",
    "    X_train.loc[segment, 'q99'] = np.quantile(x, 0.99)\n",
    "    X_train.loc[segment, 'q05'] = np.quantile(x, 0.05)\n",
    "    X_train.loc[segment, 'q01'] = np.quantile(x, 0.01)\n",
    "\n",
    "    X_train.loc[segment, 'abs_q95'] = np.quantile(np.abs(x), 0.95)\n",
    "    X_train.loc[segment, 'abs_q99'] = np.quantile(np.abs(x), 0.99)\n",
    "    X_train.loc[segment, 'abs_q05'] = np.quantile(np.abs(x), 0.05)\n",
    "    X_train.loc[segment, 'abs_q01'] = np.quantile(np.abs(x), 0.01)\n",
    "\n",
    "    X_train.loc[segment, 'trend'] = add_trend_feature(x)\n",
    "    X_train.loc[segment, 'abs_trend'] = add_trend_feature(x, abs_values=True)\n",
    "    X_train.loc[segment, 'abs_mean'] = np.abs(x).mean()\n",
    "    X_train.loc[segment, 'abs_std'] = np.abs(x).std()\n",
    "\n",
    "    # signal processing\n",
    "    X_train.loc[segment, 'Hilbert_mean'] = np.abs(hilbert(x)).mean()\n",
    "    X_train.loc[segment, 'Hann_window_mean'] = (convolve(x, hann(150), mode='same') / sum(hann(150))).mean()\n",
    "    X_train.loc[segment, 'classic_sta_lta1_mean'] = classic_sta_lta(x, 500, 10000).mean()\n",
    "    X_train.loc[segment, 'classic_sta_lta2_mean'] = classic_sta_lta(x, 5000, 100000).mean()\n",
    "    X_train.loc[segment, 'classic_sta_lta3_mean'] = classic_sta_lta(x, 3333, 6666).mean()\n",
    "    X_train.loc[segment, 'classic_sta_lta4_mean'] = classic_sta_lta(x, 10000, 25000).mean()\n",
    "    X_train.loc[segment, 'classic_sta_lta5_mean'] = classic_sta_lta(x, 50, 1000).mean()\n",
    "    X_train.loc[segment, 'classic_sta_lta6_mean'] = classic_sta_lta(x, 100, 5000).mean()\n",
    "    X_train.loc[segment, 'classic_sta_lta7_mean'] = classic_sta_lta(x, 333, 666).mean()\n",
    "    X_train.loc[segment, 'classic_sta_lta8_mean'] = classic_sta_lta(x, 4000, 10000).mean()\n",
    "    X_train.loc[segment, 'Moving_average_700_mean'] = x.rolling(window=700).mean().mean(skipna=True)\n",
    "    ewma = pd.Series.ewm\n",
    "    X_train.loc[segment, 'exp_Moving_average_300_mean'] = (ewma(x, span=300).mean()).mean(skipna=True)\n",
    "    X_train.loc[segment, 'exp_Moving_average_3000_mean'] = ewma(x, span=3000).mean().mean(skipna=True)\n",
    "    X_train.loc[segment, 'exp_Moving_average_30000_mean'] = ewma(x, span=30000).mean().mean(skipna=True)\n",
    "    no_of_std = 3\n",
    "    X_train.loc[segment, 'MA_700MA_std_mean'] = x.rolling(window=700).std().mean()\n",
    "    X_train.loc[segment, 'MA_700MA_BB_high_mean'] = (\n",
    "                X_train.loc[segment, 'Moving_average_700_mean'] + no_of_std * X_train.loc[\n",
    "            segment, 'MA_700MA_std_mean']).mean()\n",
    "    X_train.loc[segment, 'MA_700MA_BB_low_mean'] = (\n",
    "                X_train.loc[segment, 'Moving_average_700_mean'] - no_of_std * X_train.loc[\n",
    "            segment, 'MA_700MA_std_mean']).mean()\n",
    "    X_train.loc[segment, 'MA_400MA_std_mean'] = x.rolling(window=400).std().mean()\n",
    "    X_train.loc[segment, 'MA_400MA_BB_high_mean'] = (\n",
    "                X_train.loc[segment, 'Moving_average_700_mean'] + no_of_std * X_train.loc[\n",
    "            segment, 'MA_400MA_std_mean']).mean()\n",
    "    X_train.loc[segment, 'MA_400MA_BB_low_mean'] = (\n",
    "                X_train.loc[segment, 'Moving_average_700_mean'] - no_of_std * X_train.loc[\n",
    "            segment, 'MA_400MA_std_mean']).mean()\n",
    "    X_train.loc[segment, 'MA_1000MA_std_mean'] = x.rolling(window=1000).std().mean()\n",
    "    X_train.drop('Moving_average_700_mean', axis=1, inplace=True)\n",
    "\n",
    "    X_train.loc[segment, 'iqr'] = np.subtract(*np.percentile(x, [75, 25]))\n",
    "    X_train.loc[segment, 'q999'] = np.quantile(x, 0.999)\n",
    "    X_train.loc[segment, 'q001'] = np.quantile(x, 0.001)\n",
    "    X_train.loc[segment, 'ave10'] = stats.trim_mean(x, 0.1)\n",
    "\n",
    "    for windows in [10, 100, 1000]:\n",
    "        x_roll_std = x.rolling(windows).std().dropna().values\n",
    "        x_roll_mean = x.rolling(windows).mean().dropna().values\n",
    "\n",
    "        X_train.loc[segment, 'ave_roll_std_' + str(windows)] = x_roll_std.mean()\n",
    "        X_train.loc[segment, 'std_roll_std_' + str(windows)] = x_roll_std.std()\n",
    "        X_train.loc[segment, 'max_roll_std_' + str(windows)] = x_roll_std.max()\n",
    "        X_train.loc[segment, 'min_roll_std_' + str(windows)] = x_roll_std.min()\n",
    "        X_train.loc[segment, 'q01_roll_std_' + str(windows)] = np.quantile(x_roll_std, 0.01)\n",
    "        X_train.loc[segment, 'q05_roll_std_' + str(windows)] = np.quantile(x_roll_std, 0.05)\n",
    "        X_train.loc[segment, 'q95_roll_std_' + str(windows)] = np.quantile(x_roll_std, 0.95)\n",
    "        X_train.loc[segment, 'q99_roll_std_' + str(windows)] = np.quantile(x_roll_std, 0.99)\n",
    "        X_train.loc[segment, 'av_change_abs_roll_std_' + str(windows)] = np.mean(np.diff(x_roll_std))\n",
    "        X_train.loc[segment, 'av_change_rate_roll_std_' + str(windows)] = np.mean(\n",
    "            np.nonzero((np.diff(x_roll_std) / x_roll_std[:-1]))[0])\n",
    "        X_train.loc[segment, 'abs_max_roll_std_' + str(windows)] = np.abs(x_roll_std).max()\n",
    "\n",
    "        X_train.loc[segment, 'ave_roll_mean_' + str(windows)] = x_roll_mean.mean()\n",
    "        X_train.loc[segment, 'std_roll_mean_' + str(windows)] = x_roll_mean.std()\n",
    "        X_train.loc[segment, 'max_roll_mean_' + str(windows)] = x_roll_mean.max()\n",
    "        X_train.loc[segment, 'min_roll_mean_' + str(windows)] = x_roll_mean.min()\n",
    "        X_train.loc[segment, 'q01_roll_mean_' + str(windows)] = np.quantile(x_roll_mean, 0.01)\n",
    "        X_train.loc[segment, 'q05_roll_mean_' + str(windows)] = np.quantile(x_roll_mean, 0.05)\n",
    "        X_train.loc[segment, 'q95_roll_mean_' + str(windows)] = np.quantile(x_roll_mean, 0.95)\n",
    "        X_train.loc[segment, 'q99_roll_mean_' + str(windows)] = np.quantile(x_roll_mean, 0.99)\n",
    "        X_train.loc[segment, 'av_change_abs_roll_mean_' + str(windows)] = np.mean(np.diff(x_roll_mean))\n",
    "        X_train.loc[segment, 'av_change_rate_roll_mean_' + str(windows)] = np.mean(\n",
    "            np.nonzero((np.diff(x_roll_mean) / x_roll_mean[:-1]))[0])\n",
    "        X_train.loc[segment, 'abs_max_roll_mean_' + str(windows)] = np.abs(x_roll_mean).max()"
   ]
  },
  {
   "cell_type": "markdown",
   "metadata": {},
   "source": [
    "Deal with test set"
   ]
  },
  {
   "cell_type": "code",
   "execution_count": null,
   "metadata": {},
   "outputs": [],
   "source": [
    "X_test = pd.DataFrame(columns=X_train.columns, dtype=np.float64, index=submission.index)\n",
    "for seg_id in X_test.index:\n",
    "    # X_test\n",
    "    seg = pd.read_csv('./test/' + seg_id + '.csv')\n",
    "    segment = seg_id\n",
    "    x = pd.Series(seg['acoustic_data'].values)\n",
    "\n",
    "    X_test.loc[segment, 'ave'] = x.mean()\n",
    "    X_test.loc[segment, 'std'] = x.std()\n",
    "    X_test.loc[segment, 'max'] = x.max()\n",
    "    X_test.loc[segment, 'min'] = x.min()\n",
    "    X_test.loc[segment, 'sum'] = x.sum()\n",
    "    X_test.loc[segment, 'skew'] = skew(x)\n",
    "    X_test.loc[segment, 'kurt'] = kurtosis(x)\n",
    "    X_test.loc[segment, 'mad'] = x.mad()\n",
    "    X_test.loc[segment, 'med'] = x.median()\n",
    "\n",
    "    X_test.loc[segment, 'mean_change_abs'] = np.mean(np.diff(x))\n",
    "    X_test.loc[segment, 'mean_change_rate'] = calc_change_rate(x)\n",
    "    X_test.loc[segment, 'abs_max'] = np.abs(x).max()\n",
    "    X_test.loc[segment, 'abs_min'] = np.abs(x).min()\n",
    "\n",
    "    X_test.loc[segment, 'std_first_50000'] = x[:50000].std()\n",
    "    X_test.loc[segment, 'std_last_50000'] = x[-50000:].std()\n",
    "    X_test.loc[segment, 'std_first_10000'] = x[:10000].std()\n",
    "    X_test.loc[segment, 'std_last_10000'] = x[-10000:].std()\n",
    "\n",
    "    X_test.loc[segment, 'avg_first_50000'] = x[:50000].mean()\n",
    "    X_test.loc[segment, 'avg_last_50000'] = x[-50000:].mean()\n",
    "    X_test.loc[segment, 'avg_first_10000'] = x[:10000].mean()\n",
    "    X_test.loc[segment, 'avg_last_10000'] = x[-10000:].mean()\n",
    "\n",
    "    X_test.loc[segment, 'min_first_50000'] = x[:50000].min()\n",
    "    X_test.loc[segment, 'min_last_50000'] = x[-50000:].min()\n",
    "    X_test.loc[segment, 'min_first_10000'] = x[:10000].min()\n",
    "    X_test.loc[segment, 'min_last_10000'] = x[-10000:].min()\n",
    "\n",
    "    X_test.loc[segment, 'max_first_50000'] = x[:50000].max()\n",
    "    X_test.loc[segment, 'max_last_50000'] = x[-50000:].max()\n",
    "    X_test.loc[segment, 'max_first_10000'] = x[:10000].max()\n",
    "    X_test.loc[segment, 'max_last_10000'] = x[-10000:].max()\n",
    "\n",
    "    X_test.loc[segment, 'max_to_min'] = x.max() / np.abs(x.min())\n",
    "    X_test.loc[segment, 'max_to_min_diff'] = x.max() - np.abs(x.min())\n",
    "    X_test.loc[segment, 'count_big'] = len(x[np.abs(x) > 500])\n",
    "\n",
    "    X_test.loc[segment, 'mean_change_rate_first_50000'] = calc_change_rate(x[:50000])\n",
    "    X_test.loc[segment, 'mean_change_rate_last_50000'] = calc_change_rate(x[-50000:])\n",
    "    X_test.loc[segment, 'mean_change_rate_first_10000'] = calc_change_rate(x[:10000])\n",
    "    X_test.loc[segment, 'mean_change_rate_last_10000'] = calc_change_rate(x[-10000:])\n",
    "\n",
    "    X_test.loc[segment, 'q95'] = np.quantile(x, 0.95)\n",
    "    X_test.loc[segment, 'q99'] = np.quantile(x, 0.99)\n",
    "    X_test.loc[segment, 'q05'] = np.quantile(x, 0.05)\n",
    "    X_test.loc[segment, 'q01'] = np.quantile(x, 0.01)\n",
    "\n",
    "    X_test.loc[segment, 'abs_q95'] = np.quantile(np.abs(x), 0.95)\n",
    "    X_test.loc[segment, 'abs_q99'] = np.quantile(np.abs(x), 0.99)\n",
    "    X_test.loc[segment, 'abs_q05'] = np.quantile(np.abs(x), 0.05)\n",
    "    X_test.loc[segment, 'abs_q01'] = np.quantile(np.abs(x), 0.01)\n",
    "\n",
    "    X_test.loc[segment, 'trend'] = add_trend_feature(x)\n",
    "    X_test.loc[segment, 'abs_trend'] = add_trend_feature(x, abs_values=True)\n",
    "    X_test.loc[segment, 'abs_mean'] = np.abs(x).mean()\n",
    "    X_test.loc[segment, 'abs_std'] = np.abs(x).std()\n",
    "\n",
    "    # signal processing\n",
    "    X_test.loc[segment, 'Hilbert_mean'] = np.abs(hilbert(x)).mean()\n",
    "    X_test.loc[segment, 'Hann_window_mean'] = (convolve(x, hann(150), mode='same') / sum(hann(150))).mean()\n",
    "    X_test.loc[segment, 'classic_sta_lta1_mean'] = classic_sta_lta(x, 500, 10000).mean()\n",
    "    X_test.loc[segment, 'classic_sta_lta2_mean'] = classic_sta_lta(x, 5000, 100000).mean()\n",
    "    X_test.loc[segment, 'classic_sta_lta3_mean'] = classic_sta_lta(x, 3333, 6666).mean()\n",
    "    X_test.loc[segment, 'classic_sta_lta4_mean'] = classic_sta_lta(x, 10000, 25000).mean()\n",
    "    X_test.loc[segment, 'classic_sta_lta5_mean'] = classic_sta_lta(x, 50, 1000).mean()\n",
    "    X_test.loc[segment, 'classic_sta_lta6_mean'] = classic_sta_lta(x, 100, 5000).mean()\n",
    "    X_test.loc[segment, 'classic_sta_lta7_mean'] = classic_sta_lta(x, 333, 666).mean()\n",
    "    X_test.loc[segment, 'classic_sta_lta8_mean'] = classic_sta_lta(x, 4000, 10000).mean()\n",
    "    X_test.loc[segment, 'Moving_average_700_mean'] = x.rolling(window=700).mean().mean(skipna=True)\n",
    "    ewma = pd.Series.ewm\n",
    "    X_test.loc[segment, 'exp_Moving_average_300_mean'] = (ewma(x, span=300).mean()).mean(skipna=True)\n",
    "    X_test.loc[segment, 'exp_Moving_average_3000_mean'] = ewma(x, span=3000).mean().mean(skipna=True)\n",
    "    X_test.loc[segment, 'exp_Moving_average_30000_mean'] = ewma(x, span=30000).mean().mean(skipna=True)\n",
    "    no_of_std = 3\n",
    "    X_test.loc[segment, 'MA_700MA_std_mean'] = x.rolling(window=700).std().mean()\n",
    "    X_test.loc[segment, 'MA_700MA_BB_high_mean'] = (\n",
    "                X_test.loc[segment, 'Moving_average_700_mean'] + no_of_std * X_test.loc[\n",
    "            segment, 'MA_700MA_std_mean']).mean()\n",
    "    X_test.loc[segment, 'MA_700MA_BB_low_mean'] = (\n",
    "                X_test.loc[segment, 'Moving_average_700_mean'] - no_of_std * X_test.loc[\n",
    "            segment, 'MA_700MA_std_mean']).mean()\n",
    "    X_test.loc[segment, 'MA_400MA_std_mean'] = x.rolling(window=400).std().mean()\n",
    "    X_test.loc[segment, 'MA_400MA_BB_high_mean'] = (\n",
    "                X_test.loc[segment, 'Moving_average_700_mean'] + no_of_std * X_test.loc[\n",
    "            segment, 'MA_400MA_std_mean']).mean()\n",
    "    X_test.loc[segment, 'MA_400MA_BB_low_mean'] = (\n",
    "                X_test.loc[segment, 'Moving_average_700_mean'] - no_of_std * X_test.loc[\n",
    "            segment, 'MA_400MA_std_mean']).mean()\n",
    "    X_test.loc[segment, 'MA_1000MA_std_mean'] = x.rolling(window=1000).std().mean()\n",
    "    X_test.drop('Moving_average_700_mean', axis=1, inplace=True)\n",
    "\n",
    "    X_test.loc[segment, 'iqr'] = np.subtract(*np.percentile(x, [75, 25]))\n",
    "    X_test.loc[segment, 'q999'] = np.quantile(x, 0.999)\n",
    "    X_test.loc[segment, 'q001'] = np.quantile(x, 0.001)\n",
    "    X_test.loc[segment, 'ave10'] = stats.trim_mean(x, 0.1)\n",
    "\n",
    "    for windows in [10, 100, 1000]:\n",
    "        x_roll_std = x.rolling(windows).std().dropna().values\n",
    "        x_roll_mean = x.rolling(windows).mean().dropna().values\n",
    "\n",
    "        X_test.loc[segment, 'ave_roll_std_' + str(windows)] = x_roll_std.mean()\n",
    "        X_test.loc[segment, 'std_roll_std_' + str(windows)] = x_roll_std.std()\n",
    "        X_test.loc[segment, 'max_roll_std_' + str(windows)] = x_roll_std.max()\n",
    "        X_test.loc[segment, 'min_roll_std_' + str(windows)] = x_roll_std.min()\n",
    "        X_test.loc[segment, 'q01_roll_std_' + str(windows)] = np.quantile(x_roll_std, 0.01)\n",
    "        X_test.loc[segment, 'q05_roll_std_' + str(windows)] = np.quantile(x_roll_std, 0.05)\n",
    "        X_test.loc[segment, 'q95_roll_std_' + str(windows)] = np.quantile(x_roll_std, 0.95)\n",
    "        X_test.loc[segment, 'q99_roll_std_' + str(windows)] = np.quantile(x_roll_std, 0.99)\n",
    "        X_test.loc[segment, 'av_change_abs_roll_std_' + str(windows)] = np.mean(np.diff(x_roll_std))\n",
    "        X_test.loc[segment, 'av_change_rate_roll_std_' + str(windows)] = np.mean(\n",
    "            np.nonzero((np.diff(x_roll_std) / x_roll_std[:-1]))[0])\n",
    "        X_test.loc[segment, 'abs_max_roll_std_' + str(windows)] = np.abs(x_roll_std).max()\n",
    "\n",
    "        X_test.loc[segment, 'ave_roll_mean_' + str(windows)] = x_roll_mean.mean()\n",
    "        X_test.loc[segment, 'std_roll_mean_' + str(windows)] = x_roll_mean.std()\n",
    "        X_test.loc[segment, 'max_roll_mean_' + str(windows)] = x_roll_mean.max()\n",
    "        X_test.loc[segment, 'min_roll_mean_' + str(windows)] = x_roll_mean.min()\n",
    "        X_test.loc[segment, 'q01_roll_mean_' + str(windows)] = np.quantile(x_roll_mean, 0.01)\n",
    "        X_test.loc[segment, 'q05_roll_mean_' + str(windows)] = np.quantile(x_roll_mean, 0.05)\n",
    "        X_test.loc[segment, 'q95_roll_mean_' + str(windows)] = np.quantile(x_roll_mean, 0.95)\n",
    "        X_test.loc[segment, 'q99_roll_mean_' + str(windows)] = np.quantile(x_roll_mean, 0.99)\n",
    "        X_test.loc[segment, 'av_change_abs_roll_mean_' + str(windows)] = np.mean(np.diff(x_roll_mean))\n",
    "        X_test.loc[segment, 'av_change_rate_roll_mean_' + str(windows)] = np.mean(\n",
    "            np.nonzero((np.diff(x_roll_mean) / x_roll_mean[:-1]))[0])\n",
    "        X_test.loc[segment, 'abs_max_roll_mean_' + str(windows)] = np.abs(x_roll_mean).max()\n"
   ]
  },
  {
   "cell_type": "markdown",
   "metadata": {},
   "source": [
    "#### StandardScaler"
   ]
  },
  {
   "cell_type": "code",
   "execution_count": 70,
   "metadata": {},
   "outputs": [],
   "source": [
    "X_train =  pd.read_csv('D:/NINI data/X_train_138features_filtered.csv',index_col=0)\n",
    "X_test = pd.read_csv('D:/NINI data/X_test_138features_filtered.csv',index_col=0)"
   ]
  },
  {
   "cell_type": "code",
   "execution_count": 56,
   "metadata": {},
   "outputs": [],
   "source": [
    "for segment in range(segments):\n",
    "    seg = train.iloc[segment*rows:segment*rows+rows]\n",
    "    y = seg['time_to_failure'].values[-1]\n",
    "    y_train.loc[segment, 'time_to_failure'] = y"
   ]
  },
  {
   "cell_type": "code",
   "execution_count": 74,
   "metadata": {},
   "outputs": [],
   "source": [
    "X = X_train.copy()\n",
    "y = y_train.copy()\n",
    "train_X, val_X, train_y, val_y = train_test_split(X, y, random_state=1)"
   ]
  },
  {
   "cell_type": "code",
   "execution_count": 75,
   "metadata": {},
   "outputs": [],
   "source": [
    "scaler = StandardScaler()\n",
    "scaler.fit(X_train)\n",
    "X_train_scaled = pd.DataFrame(scaler.transform(X_train), columns=X_train.columns)\n",
    "X_test_scaled = pd.DataFrame(scaler.transform(X_test), columns=X_test.columns)"
   ]
  },
  {
   "cell_type": "code",
   "execution_count": 51,
   "metadata": {},
   "outputs": [
    {
     "data": {
      "text/plain": [
       "(4194, 139)"
      ]
     },
     "execution_count": 51,
     "metadata": {},
     "output_type": "execute_result"
    }
   ],
   "source": [
    "X_train.shape"
   ]
  },
  {
   "cell_type": "code",
   "execution_count": 52,
   "metadata": {},
   "outputs": [
    {
     "data": {
      "text/plain": [
       "(2624, 139)"
      ]
     },
     "execution_count": 52,
     "metadata": {},
     "output_type": "execute_result"
    }
   ],
   "source": [
    "X_test.shape"
   ]
  },
  {
   "cell_type": "code",
   "execution_count": 77,
   "metadata": {},
   "outputs": [
    {
     "data": {
      "text/html": [
       "<div>\n",
       "<style scoped>\n",
       "    .dataframe tbody tr th:only-of-type {\n",
       "        vertical-align: middle;\n",
       "    }\n",
       "\n",
       "    .dataframe tbody tr th {\n",
       "        vertical-align: top;\n",
       "    }\n",
       "\n",
       "    .dataframe thead th {\n",
       "        text-align: right;\n",
       "    }\n",
       "</style>\n",
       "<table border=\"1\" class=\"dataframe\">\n",
       "  <thead>\n",
       "    <tr style=\"text-align: right;\">\n",
       "      <th></th>\n",
       "      <th>ave</th>\n",
       "      <th>std</th>\n",
       "      <th>max</th>\n",
       "      <th>min</th>\n",
       "      <th>sum</th>\n",
       "      <th>skew</th>\n",
       "      <th>kurt</th>\n",
       "      <th>mad</th>\n",
       "      <th>med</th>\n",
       "      <th>mean_change_abs</th>\n",
       "      <th>...</th>\n",
       "      <th>std_roll_mean_1000</th>\n",
       "      <th>max_roll_mean_1000</th>\n",
       "      <th>min_roll_mean_1000</th>\n",
       "      <th>q01_roll_mean_1000</th>\n",
       "      <th>q05_roll_mean_1000</th>\n",
       "      <th>q95_roll_mean_1000</th>\n",
       "      <th>q99_roll_mean_1000</th>\n",
       "      <th>av_change_abs_roll_mean_1000</th>\n",
       "      <th>av_change_rate_roll_mean_1000</th>\n",
       "      <th>abs_max_roll_mean_1000</th>\n",
       "    </tr>\n",
       "  </thead>\n",
       "  <tbody>\n",
       "    <tr>\n",
       "      <th>0</th>\n",
       "      <td>1.424140</td>\n",
       "      <td>-0.170214</td>\n",
       "      <td>-0.218194</td>\n",
       "      <td>0.193218</td>\n",
       "      <td>1.424140</td>\n",
       "      <td>-0.313703</td>\n",
       "      <td>-0.491310</td>\n",
       "      <td>-0.135555</td>\n",
       "      <td>0.947037</td>\n",
       "      <td>-1.326420</td>\n",
       "      <td>...</td>\n",
       "      <td>0.268470</td>\n",
       "      <td>-0.004742</td>\n",
       "      <td>0.178278</td>\n",
       "      <td>0.287332</td>\n",
       "      <td>0.965402</td>\n",
       "      <td>1.509153</td>\n",
       "      <td>0.885262</td>\n",
       "      <td>-0.631300</td>\n",
       "      <td>-1.832422</td>\n",
       "      <td>-0.004742</td>\n",
       "    </tr>\n",
       "    <tr>\n",
       "      <th>1</th>\n",
       "      <td>0.805716</td>\n",
       "      <td>0.004734</td>\n",
       "      <td>0.063936</td>\n",
       "      <td>-0.018037</td>\n",
       "      <td>0.805716</td>\n",
       "      <td>0.553891</td>\n",
       "      <td>0.431696</td>\n",
       "      <td>0.056233</td>\n",
       "      <td>0.947037</td>\n",
       "      <td>0.002747</td>\n",
       "      <td>...</td>\n",
       "      <td>-0.141264</td>\n",
       "      <td>0.007341</td>\n",
       "      <td>-0.025387</td>\n",
       "      <td>0.622391</td>\n",
       "      <td>0.842747</td>\n",
       "      <td>0.522428</td>\n",
       "      <td>0.294357</td>\n",
       "      <td>-0.912054</td>\n",
       "      <td>-0.890022</td>\n",
       "      <td>0.007341</td>\n",
       "    </tr>\n",
       "    <tr>\n",
       "      <th>2</th>\n",
       "      <td>1.511155</td>\n",
       "      <td>0.049252</td>\n",
       "      <td>-0.086289</td>\n",
       "      <td>0.163039</td>\n",
       "      <td>1.511155</td>\n",
       "      <td>0.191534</td>\n",
       "      <td>-0.492831</td>\n",
       "      <td>0.287014</td>\n",
       "      <td>0.947037</td>\n",
       "      <td>-0.218781</td>\n",
       "      <td>...</td>\n",
       "      <td>0.085078</td>\n",
       "      <td>0.099556</td>\n",
       "      <td>0.245184</td>\n",
       "      <td>0.634878</td>\n",
       "      <td>1.207106</td>\n",
       "      <td>1.530919</td>\n",
       "      <td>0.889790</td>\n",
       "      <td>0.441128</td>\n",
       "      <td>0.639209</td>\n",
       "      <td>0.099556</td>\n",
       "    </tr>\n",
       "    <tr>\n",
       "      <th>3</th>\n",
       "      <td>1.494934</td>\n",
       "      <td>0.043950</td>\n",
       "      <td>0.122560</td>\n",
       "      <td>-0.187796</td>\n",
       "      <td>1.494934</td>\n",
       "      <td>1.321245</td>\n",
       "      <td>0.683938</td>\n",
       "      <td>0.101152</td>\n",
       "      <td>0.947037</td>\n",
       "      <td>0.002747</td>\n",
       "      <td>...</td>\n",
       "      <td>0.083085</td>\n",
       "      <td>0.068076</td>\n",
       "      <td>0.105059</td>\n",
       "      <td>0.770151</td>\n",
       "      <td>1.160208</td>\n",
       "      <td>1.432972</td>\n",
       "      <td>0.815078</td>\n",
       "      <td>-0.949994</td>\n",
       "      <td>-1.097513</td>\n",
       "      <td>0.068076</td>\n",
       "    </tr>\n",
       "    <tr>\n",
       "      <th>4</th>\n",
       "      <td>1.520242</td>\n",
       "      <td>0.088495</td>\n",
       "      <td>-0.067969</td>\n",
       "      <td>0.087590</td>\n",
       "      <td>1.520242</td>\n",
       "      <td>-0.128324</td>\n",
       "      <td>-0.217434</td>\n",
       "      <td>0.211533</td>\n",
       "      <td>0.947037</td>\n",
       "      <td>-0.108017</td>\n",
       "      <td>...</td>\n",
       "      <td>-0.164151</td>\n",
       "      <td>0.138032</td>\n",
       "      <td>0.187535</td>\n",
       "      <td>1.040695</td>\n",
       "      <td>1.557034</td>\n",
       "      <td>1.393068</td>\n",
       "      <td>0.901110</td>\n",
       "      <td>0.595416</td>\n",
       "      <td>-0.465464</td>\n",
       "      <td>0.138032</td>\n",
       "    </tr>\n",
       "  </tbody>\n",
       "</table>\n",
       "<p>5 rows × 138 columns</p>\n",
       "</div>"
      ],
      "text/plain": [
       "        ave       std       max       min       sum      skew      kurt  \\\n",
       "0  1.424140 -0.170214 -0.218194  0.193218  1.424140 -0.313703 -0.491310   \n",
       "1  0.805716  0.004734  0.063936 -0.018037  0.805716  0.553891  0.431696   \n",
       "2  1.511155  0.049252 -0.086289  0.163039  1.511155  0.191534 -0.492831   \n",
       "3  1.494934  0.043950  0.122560 -0.187796  1.494934  1.321245  0.683938   \n",
       "4  1.520242  0.088495 -0.067969  0.087590  1.520242 -0.128324 -0.217434   \n",
       "\n",
       "        mad       med  mean_change_abs           ...            \\\n",
       "0 -0.135555  0.947037        -1.326420           ...             \n",
       "1  0.056233  0.947037         0.002747           ...             \n",
       "2  0.287014  0.947037        -0.218781           ...             \n",
       "3  0.101152  0.947037         0.002747           ...             \n",
       "4  0.211533  0.947037        -0.108017           ...             \n",
       "\n",
       "   std_roll_mean_1000  max_roll_mean_1000  min_roll_mean_1000  \\\n",
       "0            0.268470           -0.004742            0.178278   \n",
       "1           -0.141264            0.007341           -0.025387   \n",
       "2            0.085078            0.099556            0.245184   \n",
       "3            0.083085            0.068076            0.105059   \n",
       "4           -0.164151            0.138032            0.187535   \n",
       "\n",
       "   q01_roll_mean_1000  q05_roll_mean_1000  q95_roll_mean_1000  \\\n",
       "0            0.287332            0.965402            1.509153   \n",
       "1            0.622391            0.842747            0.522428   \n",
       "2            0.634878            1.207106            1.530919   \n",
       "3            0.770151            1.160208            1.432972   \n",
       "4            1.040695            1.557034            1.393068   \n",
       "\n",
       "   q99_roll_mean_1000  av_change_abs_roll_mean_1000  \\\n",
       "0            0.885262                     -0.631300   \n",
       "1            0.294357                     -0.912054   \n",
       "2            0.889790                      0.441128   \n",
       "3            0.815078                     -0.949994   \n",
       "4            0.901110                      0.595416   \n",
       "\n",
       "   av_change_rate_roll_mean_1000  abs_max_roll_mean_1000  \n",
       "0                      -1.832422               -0.004742  \n",
       "1                      -0.890022                0.007341  \n",
       "2                       0.639209                0.099556  \n",
       "3                      -1.097513                0.068076  \n",
       "4                      -0.465464                0.138032  \n",
       "\n",
       "[5 rows x 138 columns]"
      ]
     },
     "execution_count": 77,
     "metadata": {},
     "output_type": "execute_result"
    }
   ],
   "source": [
    "X_train_scaled.head()"
   ]
  },
  {
   "cell_type": "code",
   "execution_count": 72,
   "metadata": {},
   "outputs": [
    {
     "data": {
      "text/plain": [
       "(4194, 1)"
      ]
     },
     "execution_count": 72,
     "metadata": {},
     "output_type": "execute_result"
    }
   ],
   "source": [
    "y_train.shape"
   ]
  },
  {
   "cell_type": "code",
   "execution_count": 78,
   "metadata": {},
   "outputs": [
    {
     "data": {
      "text/html": [
       "<div>\n",
       "<style scoped>\n",
       "    .dataframe tbody tr th:only-of-type {\n",
       "        vertical-align: middle;\n",
       "    }\n",
       "\n",
       "    .dataframe tbody tr th {\n",
       "        vertical-align: top;\n",
       "    }\n",
       "\n",
       "    .dataframe thead th {\n",
       "        text-align: right;\n",
       "    }\n",
       "</style>\n",
       "<table border=\"1\" class=\"dataframe\">\n",
       "  <thead>\n",
       "    <tr style=\"text-align: right;\">\n",
       "      <th></th>\n",
       "      <th>ave</th>\n",
       "      <th>std</th>\n",
       "      <th>max</th>\n",
       "      <th>min</th>\n",
       "      <th>sum</th>\n",
       "      <th>skew</th>\n",
       "      <th>kurt</th>\n",
       "      <th>mad</th>\n",
       "      <th>med</th>\n",
       "      <th>mean_change_abs</th>\n",
       "      <th>...</th>\n",
       "      <th>std_roll_mean_1000</th>\n",
       "      <th>max_roll_mean_1000</th>\n",
       "      <th>min_roll_mean_1000</th>\n",
       "      <th>q01_roll_mean_1000</th>\n",
       "      <th>q05_roll_mean_1000</th>\n",
       "      <th>q95_roll_mean_1000</th>\n",
       "      <th>q99_roll_mean_1000</th>\n",
       "      <th>av_change_abs_roll_mean_1000</th>\n",
       "      <th>av_change_rate_roll_mean_1000</th>\n",
       "      <th>abs_max_roll_mean_1000</th>\n",
       "    </tr>\n",
       "  </thead>\n",
       "  <tbody>\n",
       "    <tr>\n",
       "      <th>0</th>\n",
       "      <td>-0.108121</td>\n",
       "      <td>-0.194605</td>\n",
       "      <td>-0.177889</td>\n",
       "      <td>0.279984</td>\n",
       "      <td>-0.108121</td>\n",
       "      <td>0.422790</td>\n",
       "      <td>-0.559723</td>\n",
       "      <td>-0.144734</td>\n",
       "      <td>-1.055925</td>\n",
       "      <td>0.445802</td>\n",
       "      <td>...</td>\n",
       "      <td>-0.139320</td>\n",
       "      <td>-0.047351</td>\n",
       "      <td>0.126941</td>\n",
       "      <td>-0.093512</td>\n",
       "      <td>-0.044701</td>\n",
       "      <td>-0.199479</td>\n",
       "      <td>-0.210516</td>\n",
       "      <td>0.681413</td>\n",
       "      <td>0.563673</td>\n",
       "      <td>-0.047351</td>\n",
       "    </tr>\n",
       "    <tr>\n",
       "      <th>1</th>\n",
       "      <td>-1.360332</td>\n",
       "      <td>-0.073582</td>\n",
       "      <td>-0.042321</td>\n",
       "      <td>0.034777</td>\n",
       "      <td>-1.360332</td>\n",
       "      <td>0.355412</td>\n",
       "      <td>-0.171479</td>\n",
       "      <td>-0.033272</td>\n",
       "      <td>-1.055925</td>\n",
       "      <td>-0.218781</td>\n",
       "      <td>...</td>\n",
       "      <td>-0.145565</td>\n",
       "      <td>-0.201890</td>\n",
       "      <td>-0.054843</td>\n",
       "      <td>-0.603385</td>\n",
       "      <td>-1.159422</td>\n",
       "      <td>-1.382099</td>\n",
       "      <td>-0.801422</td>\n",
       "      <td>-0.062205</td>\n",
       "      <td>-1.006714</td>\n",
       "      <td>-0.201890</td>\n",
       "    </tr>\n",
       "    <tr>\n",
       "      <th>2</th>\n",
       "      <td>0.354604</td>\n",
       "      <td>0.046852</td>\n",
       "      <td>0.309425</td>\n",
       "      <td>-0.165162</td>\n",
       "      <td>0.354604</td>\n",
       "      <td>0.633673</td>\n",
       "      <td>1.330083</td>\n",
       "      <td>-0.013053</td>\n",
       "      <td>0.947037</td>\n",
       "      <td>-0.329545</td>\n",
       "      <td>...</td>\n",
       "      <td>-0.041383</td>\n",
       "      <td>0.187637</td>\n",
       "      <td>0.030158</td>\n",
       "      <td>0.164546</td>\n",
       "      <td>0.373771</td>\n",
       "      <td>0.159661</td>\n",
       "      <td>-0.024868</td>\n",
       "      <td>0.041497</td>\n",
       "      <td>-0.989262</td>\n",
       "      <td>0.187637</td>\n",
       "    </tr>\n",
       "    <tr>\n",
       "      <th>3</th>\n",
       "      <td>0.046902</td>\n",
       "      <td>-0.286275</td>\n",
       "      <td>-0.287810</td>\n",
       "      <td>0.212080</td>\n",
       "      <td>0.046902</td>\n",
       "      <td>-0.133852</td>\n",
       "      <td>-0.383841</td>\n",
       "      <td>-0.496368</td>\n",
       "      <td>0.947037</td>\n",
       "      <td>0.778094</td>\n",
       "      <td>...</td>\n",
       "      <td>-0.183932</td>\n",
       "      <td>-0.062932</td>\n",
       "      <td>0.175332</td>\n",
       "      <td>0.204088</td>\n",
       "      <td>0.261938</td>\n",
       "      <td>-0.039861</td>\n",
       "      <td>-0.095052</td>\n",
       "      <td>1.480675</td>\n",
       "      <td>-0.454782</td>\n",
       "      <td>-0.062932</td>\n",
       "    </tr>\n",
       "    <tr>\n",
       "      <th>4</th>\n",
       "      <td>-1.527540</td>\n",
       "      <td>-0.088361</td>\n",
       "      <td>0.049280</td>\n",
       "      <td>0.008370</td>\n",
       "      <td>-1.527540</td>\n",
       "      <td>-0.108723</td>\n",
       "      <td>0.159190</td>\n",
       "      <td>-0.122937</td>\n",
       "      <td>-1.055925</td>\n",
       "      <td>-0.108017</td>\n",
       "      <td>...</td>\n",
       "      <td>0.129890</td>\n",
       "      <td>-0.196166</td>\n",
       "      <td>-0.048531</td>\n",
       "      <td>-0.832307</td>\n",
       "      <td>-1.621183</td>\n",
       "      <td>-1.276896</td>\n",
       "      <td>-0.504837</td>\n",
       "      <td>-1.096694</td>\n",
       "      <td>0.312498</td>\n",
       "      <td>-0.196166</td>\n",
       "    </tr>\n",
       "  </tbody>\n",
       "</table>\n",
       "<p>5 rows × 138 columns</p>\n",
       "</div>"
      ],
      "text/plain": [
       "        ave       std       max       min       sum      skew      kurt  \\\n",
       "0 -0.108121 -0.194605 -0.177889  0.279984 -0.108121  0.422790 -0.559723   \n",
       "1 -1.360332 -0.073582 -0.042321  0.034777 -1.360332  0.355412 -0.171479   \n",
       "2  0.354604  0.046852  0.309425 -0.165162  0.354604  0.633673  1.330083   \n",
       "3  0.046902 -0.286275 -0.287810  0.212080  0.046902 -0.133852 -0.383841   \n",
       "4 -1.527540 -0.088361  0.049280  0.008370 -1.527540 -0.108723  0.159190   \n",
       "\n",
       "        mad       med  mean_change_abs           ...            \\\n",
       "0 -0.144734 -1.055925         0.445802           ...             \n",
       "1 -0.033272 -1.055925        -0.218781           ...             \n",
       "2 -0.013053  0.947037        -0.329545           ...             \n",
       "3 -0.496368  0.947037         0.778094           ...             \n",
       "4 -0.122937 -1.055925        -0.108017           ...             \n",
       "\n",
       "   std_roll_mean_1000  max_roll_mean_1000  min_roll_mean_1000  \\\n",
       "0           -0.139320           -0.047351            0.126941   \n",
       "1           -0.145565           -0.201890           -0.054843   \n",
       "2           -0.041383            0.187637            0.030158   \n",
       "3           -0.183932           -0.062932            0.175332   \n",
       "4            0.129890           -0.196166           -0.048531   \n",
       "\n",
       "   q01_roll_mean_1000  q05_roll_mean_1000  q95_roll_mean_1000  \\\n",
       "0           -0.093512           -0.044701           -0.199479   \n",
       "1           -0.603385           -1.159422           -1.382099   \n",
       "2            0.164546            0.373771            0.159661   \n",
       "3            0.204088            0.261938           -0.039861   \n",
       "4           -0.832307           -1.621183           -1.276896   \n",
       "\n",
       "   q99_roll_mean_1000  av_change_abs_roll_mean_1000  \\\n",
       "0           -0.210516                      0.681413   \n",
       "1           -0.801422                     -0.062205   \n",
       "2           -0.024868                      0.041497   \n",
       "3           -0.095052                      1.480675   \n",
       "4           -0.504837                     -1.096694   \n",
       "\n",
       "   av_change_rate_roll_mean_1000  abs_max_roll_mean_1000  \n",
       "0                       0.563673               -0.047351  \n",
       "1                      -1.006714               -0.201890  \n",
       "2                      -0.989262                0.187637  \n",
       "3                      -0.454782               -0.062932  \n",
       "4                       0.312498               -0.196166  \n",
       "\n",
       "[5 rows x 138 columns]"
      ]
     },
     "execution_count": 78,
     "metadata": {},
     "output_type": "execute_result"
    }
   ],
   "source": [
    "X_test_scaled.head()"
   ]
  },
  {
   "cell_type": "code",
   "execution_count": 94,
   "metadata": {},
   "outputs": [
    {
     "data": {
      "text/plain": [
       "(2624, 138)"
      ]
     },
     "execution_count": 94,
     "metadata": {},
     "output_type": "execute_result"
    }
   ],
   "source": [
    "X_test_scaled.shape"
   ]
  },
  {
   "cell_type": "markdown",
   "metadata": {},
   "source": [
    "### Building models"
   ]
  },
  {
   "cell_type": "code",
   "execution_count": 82,
   "metadata": {},
   "outputs": [],
   "source": [
    "n_fold = 5\n",
    "folds = KFold(n_splits=n_fold, shuffle=True, random_state=42)\n",
    "train_columns = X_train_scaled.columns.values"
   ]
  },
  {
   "cell_type": "markdown",
   "metadata": {},
   "source": [
    "### lightLGB"
   ]
  },
  {
   "cell_type": "markdown",
   "metadata": {},
   "source": [
    "#### define the model parameters"
   ]
  },
  {
   "cell_type": "code",
   "execution_count": 81,
   "metadata": {},
   "outputs": [],
   "source": [
    "params = {'num_leaves': 51,\n",
    "         'min_data_in_leaf': 10, \n",
    "         'objective':'regression',\n",
    "         'max_depth': -1,\n",
    "         'learning_rate': 0.001,\n",
    "         \"boosting\": \"gbdt\",\n",
    "         \"feature_fraction\": 0.91,\n",
    "         \"bagging_freq\": 1,\n",
    "         \"bagging_fraction\": 0.91,\n",
    "         \"bagging_seed\": 42,\n",
    "         \"metric\": 'mae',\n",
    "         \"lambda_l1\": 0.1,\n",
    "         \"verbosity\": -1,\n",
    "         \"nthread\": -1,\n",
    "         \"random_state\": 42}"
   ]
  },
  {
   "cell_type": "code",
   "execution_count": null,
   "metadata": {},
   "outputs": [],
   "source": [
    "oof = np.zeros(len(X_train_scaled))\n",
    "predictions = np.zeros(len(X_test_scaled))\n",
    "feature_importance_df = pd.DataFrame()\n",
    "#run model\n",
    "for fold_, (trn_idx, val_idx) in enumerate(folds.split(X_train_scaled,y_train.values)):\n",
    "    strLog = \"fold {}\".format(fold_)\n",
    "    print(strLog)\n",
    "    \n",
    "    X_tr, X_val = X_train_scaled.iloc[trn_idx], X_train_scaled.iloc[val_idx]\n",
    "    y_tr, y_val = y_train.iloc[trn_idx], y_train.iloc[val_idx]\n",
    "\n",
    "    model = lgb.LGBMRegressor(**params, n_estimators = 20000, n_jobs = -1)\n",
    "    model.fit(X_tr, y_tr, \n",
    "                    eval_set=[(X_tr, y_tr), (X_val, y_val)], eval_metric='mae',\n",
    "                    verbose=1000, early_stopping_rounds=200)\n",
    "    oof[val_idx] = model.predict(X_val, num_iteration=model.best_iteration_)\n",
    "    #feature importance\n",
    "    fold_importance_df = pd.DataFrame()\n",
    "    fold_importance_df[\"Feature\"] = train_columns\n",
    "    fold_importance_df[\"importance\"] = model.feature_importances_[:len(train_columns)]\n",
    "    fold_importance_df[\"fold\"] = fold_ + 1\n",
    "    feature_importance_df = pd.concat([feature_importance_df, fold_importance_df], axis=0)\n",
    "    #predictions\n",
    "    predictions += model.predict(X_test_scaled, num_iteration=model.best_iteration_) / folds.n_splits"
   ]
  },
  {
   "cell_type": "markdown",
   "metadata": {},
   "source": [
    "### CNN"
   ]
  },
  {
   "cell_type": "code",
   "execution_count": 4,
   "metadata": {},
   "outputs": [],
   "source": [
    "X_train = train['acoustic_data']\n",
    "y_train = train['time_to_failure']"
   ]
  },
  {
   "cell_type": "code",
   "execution_count": 5,
   "metadata": {},
   "outputs": [
    {
     "name": "stdout",
     "output_type": "stream",
     "text": [
      "(4194, 150000, 1)\n"
     ]
    }
   ],
   "source": [
    "# Cut training data\n",
    "rows = 150_000\n",
    "X_train = X_train[:int(np.floor(X_train.shape[0] / rows))*rows] #保证有整数个segments\n",
    "y_train = y_train[:int(np.floor(y_train.shape[0] / rows))*rows]\n",
    "X_train= X_train.values.reshape((-1, rows, 1))\n",
    "print(X_train.shape)"
   ]
  },
  {
   "cell_type": "code",
   "execution_count": 6,
   "metadata": {},
   "outputs": [
    {
     "name": "stdout",
     "output_type": "stream",
     "text": [
      "(4194,)\n"
     ]
    }
   ],
   "source": [
    "y_train = y_train[rows-1::rows].values\n",
    "print(y_train.shape)"
   ]
  },
  {
   "cell_type": "markdown",
   "metadata": {},
   "source": [
    "#### Training/ Vaidation Split"
   ]
  },
  {
   "cell_type": "code",
   "execution_count": 7,
   "metadata": {},
   "outputs": [],
   "source": [
    "rows = 150_000"
   ]
  },
  {
   "cell_type": "code",
   "execution_count": 8,
   "metadata": {},
   "outputs": [],
   "source": [
    "X_train, X_val, y_train, y_val = train_test_split(X_train,\n",
    "                                                y_train,\n",
    "                                 \n",
    "                                                test_size= 0.2,\n",
    "                                                random_state= 11)"
   ]
  },
  {
   "cell_type": "code",
   "execution_count": 38,
   "metadata": {
    "scrolled": true
   },
   "outputs": [],
   "source": [
    "from keras.models import Sequential\n",
    "from keras.layers import Dense, Conv1D, MaxPooling1D, GlobalAveragePooling1D, Dropout\n",
    "from keras.optimizers import adam\n",
    "from keras.callbacks import EarlyStopping, ModelCheckpoint, ReduceLROnPlateau\n",
    "from keras.callbacks import TensorBoard"
   ]
  },
  {
   "cell_type": "code",
   "execution_count": 10,
   "metadata": {},
   "outputs": [],
   "source": [
    "model = Sequential()"
   ]
  },
  {
   "cell_type": "code",
   "execution_count": 11,
   "metadata": {},
   "outputs": [
    {
     "name": "stdout",
     "output_type": "stream",
     "text": [
      "WARNING:tensorflow:From C:\\Users\\Evelyn\\Anaconda3\\lib\\site-packages\\tensorflow\\python\\framework\\op_def_library.py:263: colocate_with (from tensorflow.python.framework.ops) is deprecated and will be removed in a future version.\n",
      "Instructions for updating:\n",
      "Colocations handled automatically by placer.\n"
     ]
    }
   ],
   "source": [
    "# Conv 1\n",
    "model.add(Conv1D(32, 10, activation='relu', input_shape=(rows, 1)))"
   ]
  },
  {
   "cell_type": "code",
   "execution_count": 12,
   "metadata": {},
   "outputs": [],
   "source": [
    "# Max Pooling\n",
    "model.add(MaxPooling1D(100))"
   ]
  },
  {
   "cell_type": "code",
   "execution_count": 13,
   "metadata": {},
   "outputs": [],
   "source": [
    "# Conv 3\n",
    "model.add(Conv1D(64, 10, activation='relu'))"
   ]
  },
  {
   "cell_type": "code",
   "execution_count": 14,
   "metadata": {},
   "outputs": [],
   "source": [
    "# Average Pooling\n",
    "model.add(GlobalAveragePooling1D())"
   ]
  },
  {
   "cell_type": "code",
   "execution_count": 15,
   "metadata": {},
   "outputs": [],
   "source": [
    "model.add(Dense(16, kernel_initializer='normal',activation='relu'))"
   ]
  },
  {
   "cell_type": "code",
   "execution_count": 16,
   "metadata": {},
   "outputs": [],
   "source": [
    "# Output Layer\n",
    "model.add(Dense(1, kernel_initializer='normal',activation='linear'))"
   ]
  },
  {
   "cell_type": "code",
   "execution_count": 17,
   "metadata": {},
   "outputs": [],
   "source": [
    "earlyStopping = EarlyStopping(monitor='val_loss',\n",
    "                              patience=10,\n",
    "                              verbose=0,\n",
    "                              mode='min')\n",
    "mcp_save = ModelCheckpoint('.mdl_wts.hdf5',\n",
    "                           save_best_only=True,\n",
    "                           monitor='val_loss',\n",
    "                           mode='min')\n",
    "reduce_lr_loss = ReduceLROnPlateau(monitor='val_loss',\n",
    "                                   factor=0.1,\n",
    "                                   patience=5,\n",
    "                                   verbose=1,\n",
    "                                   epsilon=1e-4,\n",
    "                                   mode='min')"
   ]
  },
  {
   "cell_type": "code",
   "execution_count": 18,
   "metadata": {},
   "outputs": [],
   "source": [
    "model.compile(loss='mean_absolute_error', optimizer= adam(lr=1e-4), metrics=['mean_absolute_error'])"
   ]
  },
  {
   "cell_type": "code",
   "execution_count": 19,
   "metadata": {},
   "outputs": [
    {
     "name": "stdout",
     "output_type": "stream",
     "text": [
      "_________________________________________________________________\n",
      "Layer (type)                 Output Shape              Param #   \n",
      "=================================================================\n",
      "conv1d_1 (Conv1D)            (None, 149991, 32)        352       \n",
      "_________________________________________________________________\n",
      "max_pooling1d_1 (MaxPooling1 (None, 1499, 32)          0         \n",
      "_________________________________________________________________\n",
      "conv1d_2 (Conv1D)            (None, 1490, 64)          20544     \n",
      "_________________________________________________________________\n",
      "global_average_pooling1d_1 ( (None, 64)                0         \n",
      "_________________________________________________________________\n",
      "dense_1 (Dense)              (None, 16)                1040      \n",
      "_________________________________________________________________\n",
      "dense_2 (Dense)              (None, 1)                 17        \n",
      "=================================================================\n",
      "Total params: 21,953\n",
      "Trainable params: 21,953\n",
      "Non-trainable params: 0\n",
      "_________________________________________________________________\n"
     ]
    }
   ],
   "source": [
    "model.summary()"
   ]
  },
  {
   "cell_type": "code",
   "execution_count": 20,
   "metadata": {},
   "outputs": [
    {
     "name": "stdout",
     "output_type": "stream",
     "text": [
      "WARNING:tensorflow:From C:\\Users\\Evelyn\\Anaconda3\\lib\\site-packages\\tensorflow\\python\\ops\\math_ops.py:3066: to_int32 (from tensorflow.python.ops.math_ops) is deprecated and will be removed in a future version.\n",
      "Instructions for updating:\n",
      "Use tf.cast instead.\n",
      "\n",
      "Epoch 00056: ReduceLROnPlateau reducing learning rate to 9.999999747378752e-06.\n",
      "\n",
      "Epoch 00078: ReduceLROnPlateau reducing learning rate to 9.999999747378752e-07.\n",
      "\n",
      "Epoch 00083: ReduceLROnPlateau reducing learning rate to 9.999999974752428e-08.\n"
     ]
    },
    {
     "data": {
      "text/plain": [
       "<keras.callbacks.History at 0x1fd838de9b0>"
      ]
     },
     "execution_count": 20,
     "metadata": {},
     "output_type": "execute_result"
    }
   ],
   "source": [
    "model.fit(X_train, \n",
    "        y_train,\n",
    "        batch_size= 16,\n",
    "        epochs= 100, \n",
    "        validation_data= (X_val, y_val),\n",
    "        callbacks=[earlyStopping, mcp_save, reduce_lr_loss],\n",
    "        verbose= 0\n",
    "         )"
   ]
  },
  {
   "cell_type": "code",
   "execution_count": 21,
   "metadata": {},
   "outputs": [],
   "source": [
    "y_pred = model.predict(X_val)"
   ]
  },
  {
   "cell_type": "code",
   "execution_count": 22,
   "metadata": {},
   "outputs": [
    {
     "data": {
      "image/png": "[encoded data removed]",
      "text/plain": [
       "<Figure size 432x432 with 1 Axes>"
      ]
     },
     "metadata": {
      "needs_background": "light"
     },
     "output_type": "display_data"
    }
   ],
   "source": [
    "# Plot\n",
    "plt.figure(figsize=(6, 6))\n",
    "plt.scatter(y_val, y_pred)\n",
    "plt.xlim(0, 20)\n",
    "plt.ylim(0, 20)\n",
    "plt.xlabel('actual', fontsize=12)\n",
    "plt.ylabel('predicted', fontsize=12)\n",
    "plt.plot([(0, 0), (20, 20)], [(0, 0), (20, 20)])\n",
    "plt.show()"
   ]
  },
  {
   "cell_type": "code",
   "execution_count": 23,
   "metadata": {},
   "outputs": [
    {
     "name": "stdout",
     "output_type": "stream",
     "text": [
      "Score: 2.144\n"
     ]
    }
   ],
   "source": [
    "# training Score\n",
    "score = mean_absolute_error(y_val.flatten(), y_pred)\n",
    "print(f'Score: {score:0.3f}')"
   ]
  },
  {
   "cell_type": "markdown",
   "metadata": {},
   "source": [
    "### Submission"
   ]
  },
  {
   "cell_type": "code",
   "execution_count": 24,
   "metadata": {},
   "outputs": [],
   "source": [
    "# Submission\n",
    "submission = pd.read_csv('D:/NINI data/data/sample_submission.csv', index_col='seg_id')"
   ]
  },
  {
   "cell_type": "code",
   "execution_count": 28,
   "metadata": {},
   "outputs": [
    {
     "name": "stderr",
     "output_type": "stream",
     "text": [
      "100%|██████████████████████████████████████████████████████████████████████████████| 2624/2624 [01:48<00:00, 24.23it/s]\n"
     ]
    }
   ],
   "source": [
    "X_test = []\n",
    "\n",
    "for segment in tqdm(submission.index):\n",
    "        seg = pd.read_csv('D:/NINI data/data/test/' + segment + '.csv')\n",
    "        x = pd.Series(seg['acoustic_data'].values)\n",
    "        X_test.append(x)"
   ]
  },
  {
   "cell_type": "code",
   "execution_count": 30,
   "metadata": {},
   "outputs": [],
   "source": [
    "X_test = np.asarray(X_test)\n",
    "X_test = X_test.reshape((-1, 1))"
   ]
  },
  {
   "cell_type": "code",
   "execution_count": 31,
   "metadata": {},
   "outputs": [
    {
     "data": {
      "text/plain": [
       "(393600000, 1)"
      ]
     },
     "execution_count": 31,
     "metadata": {},
     "output_type": "execute_result"
    }
   ],
   "source": [
    "X_test.shape"
   ]
  },
  {
   "cell_type": "code",
   "execution_count": 32,
   "metadata": {},
   "outputs": [
    {
     "name": "stdout",
     "output_type": "stream",
     "text": [
      "(2624, 150000, 1)\n"
     ]
    }
   ],
   "source": [
    "X_test = X_test[:int(np.floor(X_test.shape[0] / rows))*rows]\n",
    "X_test= X_test.reshape((-1, rows, 1))\n",
    "print(X_test.shape)"
   ]
  },
  {
   "cell_type": "code",
   "execution_count": 33,
   "metadata": {},
   "outputs": [],
   "source": [
    "submission['time_to_failure'] = model.predict(X_test)"
   ]
  },
  {
   "cell_type": "code",
   "execution_count": 36,
   "metadata": {},
   "outputs": [],
   "source": [
    "submission.to_csv('D:/NINI data/submission.csv')"
   ]
  },
  {
   "cell_type": "code",
   "execution_count": 37,
   "metadata": {},
   "outputs": [
    {
     "data": {
      "text/plain": [
       "(2624, 1)"
      ]
     },
     "execution_count": 37,
     "metadata": {},
     "output_type": "execute_result"
    }
   ],
   "source": [
    "submission.shape"
   ]
  },
  {
   "cell_type": "code",
   "execution_count": null,
   "metadata": {},
   "outputs": [],
   "source": []
  }
 ],
 "metadata": {
  "kernelspec": {
   "display_name": "Python 3",
   "language": "python",
   "name": "python3"
  },
  "language_info": {
   "codemirror_mode": {
    "name": "ipython",
    "version": 3
   },
   "file_extension": ".py",
   "mimetype": "text/x-python",
   "name": "python",
   "nbconvert_exporter": "python",
   "pygments_lexer": "ipython3",
   "version": "3.7.1"
  }
 },
 "nbformat": 4,
 "nbformat_minor": 2
}
