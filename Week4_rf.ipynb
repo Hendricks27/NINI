{
 "cells": [
  {
   "cell_type": "code",
   "execution_count": 36,
   "metadata": {},
   "outputs": [
    {
     "name": "stdout",
     "output_type": "stream",
     "text": [
      "Import finishes\n"
     ]
    }
   ],
   "source": [
    "from sklearn.model_selection import StratifiedKFold, KFold, RepeatedKFold\n",
    "from sklearn.model_selection import train_test_split\n",
    "from sklearn.ensemble import RandomForestRegressor\n",
    "from sklearn.tree import DecisionTreeRegressor\n",
    "from sklearn.preprocessing import StandardScaler\n",
    "from sklearn.metrics import mean_absolute_error\n",
    "from eli5.sklearn import PermutationImportance\n",
    "from catboost import CatBoostRegressor,Pool\n",
    "import matplotlib.patches as patch\n",
    "import matplotlib.pyplot as plt\n",
    "from sklearn.svm import NuSVR\n",
    "from scipy.stats import kurtosis\n",
    "from scipy.stats import skew\n",
    "from scipy.stats import norm\n",
    "from scipy import linalg\n",
    "from sklearn import tree\n",
    "from sklearn import svm\n",
    "#import lightgbm as lgb\n",
    "#import xgboost as xgb\n",
    "from tqdm import tqdm\n",
    "import seaborn as sns\n",
    "import pandas as pd\n",
    "import numpy as np\n",
    "import graphviz\n",
    "import warnings\n",
    "import random\n",
    "import eli5\n",
    "#import shap  # package used to calculate Shap values\n",
    "import time\n",
    "import glob\n",
    "import sys\n",
    "import os\n",
    "from scipy.signal import hilbert\n",
    "from scipy.signal import hann\n",
    "from scipy.signal import convolve\n",
    "from scipy import stats\n",
    "from sklearn.kernel_ridge import KernelRidge\n",
    "from sklearn.linear_model import LinearRegression\n",
    "\n",
    "print(\"Import finishes\")"
   ]
  },
  {
   "cell_type": "code",
   "execution_count": 37,
   "metadata": {},
   "outputs": [
    {
     "name": "stdout",
     "output_type": "stream",
     "text": [
      "read csv...\n",
      "scale data...\n",
      "end\n",
      "(8252, 83)\n"
     ]
    }
   ],
   "source": [
    "print('read csv...')\n",
    "fulldf=pd.read_csv('full_DF.csv')\n",
    "alltest=pd.read_csv('alltest.csv')\n",
    "submission = pd.read_csv('sample_submission.csv', index_col='seg_id')\n",
    "X_train=fulldf.iloc[:,1:]\n",
    "y_train=fulldf.iloc[:,0]\n",
    "\n",
    "#Scale train and test data\n",
    "print('scale data...')\n",
    "scaler = StandardScaler()\n",
    "scaler.fit(X_train)\n",
    "X_train_scaled = pd.DataFrame(scaler.transform(X_train), columns=X_train.columns)\n",
    "X_test_scaled = pd.DataFrame(scaler.transform(alltest), columns=alltest.columns)\n",
    "print('end')\n",
    "print(fulldf.shape)"
   ]
  },
  {
   "cell_type": "code",
   "execution_count": 34,
   "metadata": {},
   "outputs": [
    {
     "name": "stdout",
     "output_type": "stream",
     "text": [
      "   MEAN_full   SD_full   q0_full  q0.01_full  q0.05_full  q0.1_full  \\\n",
      "0   1.417288 -0.174309  0.196545    0.239325    0.090408   0.182526   \n",
      "1   0.880347 -0.049123 -0.011966    0.166802    0.090408   0.182526   \n",
      "2   0.798100 -0.000622 -0.011966    0.021756    0.090408   0.182526   \n",
      "3   0.904591 -0.102634  0.133247    0.021756    0.090408   0.182526   \n",
      "4   1.504410  0.043576  0.166758   -0.268336   -0.325657   0.182526   \n",
      "\n",
      "   q0.25_full  q0.5_full  q0.75_full  q0.9_full  ...  SD_roll_sd_1500  \\\n",
      "0    1.597236   0.948201    0.265415   0.645392  ...        -0.187444   \n",
      "1   -0.398281   0.948201    0.265415   0.645392  ...        -0.021650   \n",
      "2   -0.398281   0.948201    0.265415   0.645392  ...         0.013566   \n",
      "3   -0.398281   0.948201    0.265415   0.645392  ...        -0.133988   \n",
      "4   -0.398281   0.948201    0.265415   0.645392  ...        -0.007133   \n",
      "\n",
      "   q0_roll_sd_1500  q0.05_roll_sd_1500  q0.25_roll_sd_1500  \\\n",
      "0         0.661393            0.096891            0.096992   \n",
      "1         0.661393            0.015769            0.067238   \n",
      "2         0.286952           -0.211063           -0.005789   \n",
      "3         0.286952           -0.275703            0.088486   \n",
      "4         0.692766            0.645891            0.442644   \n",
      "\n",
      "   q0.75_roll_sd_1500  q0.95_roll_sd_1500  q1_roll_sd_1500  ar1_roll_sd_1500  \\\n",
      "0            0.018557           -0.538557        -0.112766          1.153723   \n",
      "1            0.019562           -0.401818        -0.031079          0.017051   \n",
      "2            0.321140           -0.074850        -0.031079         -0.332106   \n",
      "3            0.328764            0.002311        -0.204657         -0.756022   \n",
      "4            0.782805            0.463264        -0.067510          0.138534   \n",
      "\n",
      "   kur_roll_sd_1500  skew_roll_sd_1500  \n",
      "0          0.720015           0.609325  \n",
      "1          0.588726           0.852693  \n",
      "2          0.022298           0.209482  \n",
      "3         -1.041749          -1.263855  \n",
      "4         -0.841408          -1.040257  \n",
      "\n",
      "[5 rows x 82 columns]\n",
      "   MEAN_full   SD_full   q0_full  q0.01_full  q0.05_full  q0.1_full  \\\n",
      "0  -0.116866 -0.198524  0.282184    0.239325    0.090408   0.182526   \n",
      "1  -1.370623 -0.078374  0.040162   -0.050767    0.090408  -0.685503   \n",
      "2   0.346430  0.041193 -0.157180    0.021756    0.090408   0.182526   \n",
      "3   0.038348 -0.289534  0.215163    0.456894    0.506472   1.050554   \n",
      "4  -1.538037 -0.093046  0.014098    0.094279    0.090408   0.182526   \n",
      "\n",
      "   q0.25_full  q0.5_full  q0.75_full  q0.9_full  ...  SD_roll_sd_1500  \\\n",
      "0   -0.398281  -1.054757    0.265415  -0.231307  ...        -0.231036   \n",
      "1   -0.398281  -1.054757    0.265415  -0.231307  ...        -0.074717   \n",
      "2   -0.398281   0.948201    0.265415  -0.231307  ...         0.095558   \n",
      "3    1.597236   0.948201    0.265415  -1.108006  ...        -0.259860   \n",
      "4   -0.398281  -1.054757   -1.839032  -0.231307  ...        -0.064657   \n",
      "\n",
      "   q0_roll_sd_1500  q0.05_roll_sd_1500  q0.25_roll_sd_1500  \\\n",
      "0        -0.029878            0.592723            0.250413   \n",
      "1         0.226745            0.294802            0.069514   \n",
      "2         0.346583           -0.091280           -0.086258   \n",
      "3        -1.235365           -0.824069           -0.894667   \n",
      "4        -0.172021           -0.629944           -0.393872   \n",
      "\n",
      "   q0.75_roll_sd_1500  q0.95_roll_sd_1500  q1_roll_sd_1500  ar1_roll_sd_1500  \\\n",
      "0           -0.192749           -0.485241        -0.182306          0.102004   \n",
      "1           -0.122551            0.267826        -0.128203         -0.214871   \n",
      "2           -0.193265            0.387677         0.117122         -0.462934   \n",
      "3           -0.901107           -0.631173        -0.202829         -0.805295   \n",
      "4           -0.248342           -0.153388        -0.073917          0.774832   \n",
      "\n",
      "   kur_roll_sd_1500  skew_roll_sd_1500  \n",
      "0         -0.087302          -0.201144  \n",
      "1         -0.581242          -0.467346  \n",
      "2          0.697611           0.840768  \n",
      "3          0.276422           0.290169  \n",
      "4         -0.140196          -0.004321  \n",
      "\n",
      "[5 rows x 82 columns]\n"
     ]
    }
   ],
   "source": [
    "print(X_train_scaled.head())\n",
    "print(X_test_scaled.head())"
   ]
  },
  {
   "cell_type": "code",
   "execution_count": 39,
   "metadata": {},
   "outputs": [
    {
     "name": "stdout",
     "output_type": "stream",
     "text": [
      "start\n",
      "RandomForest...\n",
      "end\n"
     ]
    }
   ],
   "source": [
    "print('start')\n",
    "print(\"RandomForest...\")\n",
    "rfc_model = RandomForestRegressor(random_state=0).fit(X_train_scaled,y_train)\n",
    "submission['time_to_failure'] = rfc_model.predict(X_test_scaled)\n",
    "submission.to_csv('submission_rf_new1.csv')\n",
    "print('end')"
   ]
  },
  {
   "cell_type": "code",
   "execution_count": null,
   "metadata": {},
   "outputs": [
    {
     "name": "stdout",
     "output_type": "stream",
     "text": [
      "start\n"
     ]
    }
   ],
   "source": [
    "print('start')\n",
    "from sklearn.model_selection import GridSearchCV\n",
    "'''\n",
    "param_test1 = {'n_estimators':range(500,1001,100),\n",
    "               'max_depth':range(2,5), \n",
    "               'min_samples_split':range(2,5),\n",
    "               'min_samples_leaf':range(40,60,5),\n",
    "               'max_features':range(5,15)}\n",
    "'''\n",
    "param_test1 = {\"n_estimators\": range(100,1001,100),\n",
    "              \"max_depth\": range(2,5),\n",
    "              \"min_samples_split\": range(2,5),\n",
    "              \"min_samples_leaf\": [5, 10, 20],\n",
    "              \"max_leaf_nodes\": [20, 40],\n",
    "              \"min_weight_fraction_leaf\": [0.1]}\n",
    "\n",
    "gsearch1 = GridSearchCV(estimator = RandomForestRegressor(), param_grid = param_test1, scoring=None,cv=5)\n",
    "gsearch1.fit(X_train_scaled,y_train)\n",
    "print(gsearch1.best_params_)\n",
    "submission['time_to_failure'] = gsearch1.predict(X_test_scaled)\n",
    "submission.to_csv('submission_rf_tune.csv')\n",
    "print('end')"
   ]
  },
  {
   "cell_type": "code",
   "execution_count": null,
   "metadata": {
    "collapsed": true
   },
   "outputs": [],
   "source": []
  },
  {
   "cell_type": "code",
   "execution_count": null,
   "metadata": {
    "collapsed": true
   },
   "outputs": [],
   "source": []
  }
 ],
 "metadata": {
  "kernelspec": {
   "display_name": "Python 3",
   "language": "python",
   "name": "python3"
  },
  "language_info": {
   "codemirror_mode": {
    "name": "ipython",
    "version": 3
   },
   "file_extension": ".py",
   "mimetype": "text/x-python",
   "name": "python",
   "nbconvert_exporter": "python",
   "pygments_lexer": "ipython3",
   "version": "3.6.4"
  }
 },
 "nbformat": 4,
 "nbformat_minor": 2
}
