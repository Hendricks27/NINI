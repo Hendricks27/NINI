{
 "cells": [
  {
   "cell_type": "markdown",
   "metadata": {
    "_uuid": "7b1bf02a652f9d059568e248816413739a811c90"
   },
   "source": [
    "# A kernel modeled after Siraj's recent video\n",
    "Siraj probably needs no introduction. He recently did a [video on this earthquake competition](https://www.youtube.com/watch?v=TffGdSsWKlA), which is informative to data science noobs like me. I like the step by step approach. Watch that video if you want to see how to construct a kernel from scratch, but do note that it runs on Google's Colab framework.\n",
    "\n",
    "Following Siraj's step by step approach, I'm following my own steps in constructing this kernel in a Kaggle environment. I added the submission steps, since I want to use this kernel as a template with other models instead of the LSTM. \n",
    "\n",
    "## My Steps\n",
    "1. Install the Dependencies\n",
    "1. Import the Dataset\n",
    "1. Exploratory Data Analysis\n",
    "1. Feature Engineering\n",
    "1. Implement Model\n",
    "1. Evaluate Model\n",
    "1. Finalise Submission\n",
    "1. Future Directions\n",
    "\n",
    "## Install the Dependencies\n",
    "Fortunately, the kaggle dependencies are already installed. I opted to install model specific dependencies in that code block, since the code is easier to modify in terms of swopping out models. It's also easier to see what you have imported and what is still missing in this way."
   ]
  },
  {
   "cell_type": "code",
   "execution_count": 1,
   "metadata": {
    "_cell_guid": "b1076dfc-b9ad-4769-8c92-a6c4dae69d19",
    "_uuid": "8f2839f25d086af736a60e9eeb907d3b93b6e0e5"
   },
   "outputs": [
    {
     "name": "stdout",
     "output_type": "stream",
     "text": [
      "['test', 'sample_submission.csv', 'train.csv']\n"
     ]
    }
   ],
   "source": [
    "# This Python 3 environment comes with many helpful analytics libraries installed\n",
    "# It is defined by the kaggle/python docker image: https://github.com/kaggle/docker-python\n",
    "# For example, here's several helpful packages to load in \n",
    "\n",
    "# Installing dependencies\n",
    "#data preprocessing\n",
    "import pandas as pd\n",
    "#math operations\n",
    "import numpy as np\n",
    "#data visualization\n",
    "import matplotlib.pyplot as plt\n",
    "\n",
    "# Input data files are available in the \"../input/\" directory.\n",
    "# For example, running this (by clicking run or pressing Shift+Enter) will list the files in the input directory\n",
    "\n",
    "import os\n",
    "print(os.listdir(\"../input\"))\n",
    "\n",
    "# Any results you write to the current directory are saved as output."
   ]
  },
  {
   "cell_type": "markdown",
   "metadata": {
    "_cell_guid": "79c7e3d0-c299-4dcb-8224-4455121ee9b0",
    "_uuid": "d629ff2d2480ee46fbb7e2d37f6b5fab8052498a",
    "collapsed": true
   },
   "source": [
    "## Import the Dataset\n",
    "Since we aren't using the Google Colab framework, we can import the dataset directly. "
   ]
  },
  {
   "cell_type": "code",
   "execution_count": 2,
   "metadata": {
    "_uuid": "d91c5674070f84a38a6e25b6ab8a58b34a27994e"
   },
   "outputs": [
    {
     "data": {
      "text/html": [
       "<div>\n",
       "<style scoped>\n",
       "    .dataframe tbody tr th:only-of-type {\n",
       "        vertical-align: middle;\n",
       "    }\n",
       "\n",
       "    .dataframe tbody tr th {\n",
       "        vertical-align: top;\n",
       "    }\n",
       "\n",
       "    .dataframe thead th {\n",
       "        text-align: right;\n",
       "    }\n",
       "</style>\n",
       "<table border=\"1\" class=\"dataframe\">\n",
       "  <thead>\n",
       "    <tr style=\"text-align: right;\">\n",
       "      <th></th>\n",
       "      <th>acoustic_data</th>\n",
       "      <th>time_to_failure</th>\n",
       "    </tr>\n",
       "  </thead>\n",
       "  <tbody>\n",
       "    <tr>\n",
       "      <th>0</th>\n",
       "      <td>12</td>\n",
       "      <td>1.4691</td>\n",
       "    </tr>\n",
       "    <tr>\n",
       "      <th>1</th>\n",
       "      <td>6</td>\n",
       "      <td>1.4691</td>\n",
       "    </tr>\n",
       "    <tr>\n",
       "      <th>2</th>\n",
       "      <td>8</td>\n",
       "      <td>1.4691</td>\n",
       "    </tr>\n",
       "    <tr>\n",
       "      <th>3</th>\n",
       "      <td>5</td>\n",
       "      <td>1.4691</td>\n",
       "    </tr>\n",
       "    <tr>\n",
       "      <th>4</th>\n",
       "      <td>8</td>\n",
       "      <td>1.4691</td>\n",
       "    </tr>\n",
       "    <tr>\n",
       "      <th>5</th>\n",
       "      <td>8</td>\n",
       "      <td>1.4691</td>\n",
       "    </tr>\n",
       "    <tr>\n",
       "      <th>6</th>\n",
       "      <td>9</td>\n",
       "      <td>1.4691</td>\n",
       "    </tr>\n",
       "    <tr>\n",
       "      <th>7</th>\n",
       "      <td>7</td>\n",
       "      <td>1.4691</td>\n",
       "    </tr>\n",
       "    <tr>\n",
       "      <th>8</th>\n",
       "      <td>-5</td>\n",
       "      <td>1.4691</td>\n",
       "    </tr>\n",
       "    <tr>\n",
       "      <th>9</th>\n",
       "      <td>3</td>\n",
       "      <td>1.4691</td>\n",
       "    </tr>\n",
       "  </tbody>\n",
       "</table>\n",
       "</div>"
      ],
      "text/plain": [
       "   acoustic_data  time_to_failure\n",
       "0             12           1.4691\n",
       "1              6           1.4691\n",
       "2              8           1.4691\n",
       "3              5           1.4691\n",
       "4              8           1.4691\n",
       "5              8           1.4691\n",
       "6              9           1.4691\n",
       "7              7           1.4691\n",
       "8             -5           1.4691\n",
       "9              3           1.4691"
      ]
     },
     "execution_count": 2,
     "metadata": {},
     "output_type": "execute_result"
    }
   ],
   "source": [
    "# Extract training data into a dataframe for further manipulation\n",
    "train = pd.read_csv('../input/train.csv', nrows=6000000, dtype={'acoustic_data': np.int16, 'time_to_failure': np.float64})\n",
    "\n",
    "# Print first 10 entries\n",
    "train.head(10)"
   ]
  },
  {
   "cell_type": "markdown",
   "metadata": {
    "_uuid": "69f88065c08ee49b6addbef976eca917636dd576"
   },
   "source": [
    "## Exploratory Data Analysis\n",
    "For this, we just visualise the data and see what we can deduce from the graphs."
   ]
  },
  {
   "cell_type": "code",
   "execution_count": 3,
   "metadata": {
    "_uuid": "ec82e1a615678bbde3f2f1d3524e3331fc79e398"
   },
   "outputs": [
    {
     "data": {
      "image/png": "[encoded data removed]",
      "text/plain": [
       "<Figure size 864x576 with 2 Axes>"
      ]
     },
     "metadata": {},
     "output_type": "display_data"
    }
   ],
   "source": [
    "#visualize 1% of samples data, first 100 datapoints\n",
    "train_ad_sample_df = train['acoustic_data'].values[::100]\n",
    "train_ttf_sample_df = train['time_to_failure'].values[::100]\n",
    "\n",
    "#function for plotting based on both features\n",
    "def plot_acc_ttf_data(train_ad_sample_df, train_ttf_sample_df, title=\"Acoustic data and time to failure: 1% sampled data\"):\n",
    "    fig, ax1 = plt.subplots(figsize=(12, 8))\n",
    "    plt.title(title)\n",
    "    plt.plot(train_ad_sample_df, color='r')\n",
    "    ax1.set_ylabel('acoustic data', color='r')\n",
    "    plt.legend(['acoustic data'], loc=(0.01, 0.95))\n",
    "    ax2 = ax1.twinx()\n",
    "    plt.plot(train_ttf_sample_df, color='b')\n",
    "    ax2.set_ylabel('time to failure', color='b')\n",
    "    plt.legend(['time to failure'], loc=(0.01, 0.9))\n",
    "    plt.grid(True)\n",
    "\n",
    "plot_acc_ttf_data(train_ad_sample_df, train_ttf_sample_df)\n",
    "del train_ad_sample_df\n",
    "del train_ttf_sample_df"
   ]
  },
  {
   "cell_type": "markdown",
   "metadata": {
    "_uuid": "721073de2aa8c4ae5c557e0c6ee7c6b5f80eae7f"
   },
   "source": [
    "## Feature Engineering\n",
    "Adding statistical features. Siraj adds a few of the most common ones, plus he has a handy description of most of these in his [notebook on github](https://github.com/llSourcell/Kaggle_Earthquake_challenge/blob/master/Earthquake_Challenge.ipynb). \n",
    "\n",
    "This kernel, called [Earthquakes FE More Features and Samples](https://www.kaggle.com/artgor/earthquakes-fe-more-features-and-samples), contains more features. There are also links to more ideas if you want to engineer additional features. For this kernel, I'm sticking to Siraj's basics."
   ]
  },
  {
   "cell_type": "code",
   "execution_count": 4,
   "metadata": {
    "_uuid": "ec2bf170a4bc2af0a1c28f46c20b68ff5af11051"
   },
   "outputs": [],
   "source": [
    "# let's create a function to generate some statistical features based on the training data\n",
    "def gen_features(X):\n",
    "    strain = []\n",
    "    strain.append(X.mean())\n",
    "    strain.append(X.std())\n",
    "    strain.append(X.min())\n",
    "    strain.append(X.max())\n",
    "    strain.append(X.kurtosis())\n",
    "    strain.append(X.skew())\n",
    "    strain.append(np.quantile(X,0.01))\n",
    "    strain.append(np.quantile(X,0.05))\n",
    "    strain.append(np.quantile(X,0.95))\n",
    "    strain.append(np.quantile(X,0.99))\n",
    "    strain.append(np.abs(X).max())\n",
    "    strain.append(np.abs(X).mean())\n",
    "    strain.append(np.abs(X).std())\n",
    "    return pd.Series(strain)"
   ]
  },
  {
   "cell_type": "markdown",
   "metadata": {
    "_uuid": "414361a56616b9dce41424285ba0859ca5c8829f"
   },
   "source": [
    "For this, note how the chunks are used to iterate through this fairly large dataset. Each chunk is processed, and the results are appended to the *X_train* and *y_train* dataframes. This is somewhat different from some of the other kernels that I used, where all the chunks weren't iterated through and the training data was just limited."
   ]
  },
  {
   "cell_type": "code",
   "execution_count": 5,
   "metadata": {
    "_uuid": "f9b157d842d0c799a7b483f6bd327b18c1fe2e5a"
   },
   "outputs": [
    {
     "data": {
      "text/html": [
       "<div>\n",
       "<style scoped>\n",
       "    .dataframe tbody tr th:only-of-type {\n",
       "        vertical-align: middle;\n",
       "    }\n",
       "\n",
       "    .dataframe tbody tr th {\n",
       "        vertical-align: top;\n",
       "    }\n",
       "\n",
       "    .dataframe thead th {\n",
       "        text-align: right;\n",
       "    }\n",
       "</style>\n",
       "<table border=\"1\" class=\"dataframe\">\n",
       "  <thead>\n",
       "    <tr style=\"text-align: right;\">\n",
       "      <th></th>\n",
       "      <th>0</th>\n",
       "      <th>1</th>\n",
       "      <th>2</th>\n",
       "      <th>3</th>\n",
       "      <th>4</th>\n",
       "      <th>5</th>\n",
       "      <th>6</th>\n",
       "      <th>7</th>\n",
       "      <th>8</th>\n",
       "      <th>9</th>\n",
       "      <th>10</th>\n",
       "      <th>11</th>\n",
       "      <th>12</th>\n",
       "    </tr>\n",
       "  </thead>\n",
       "  <tbody>\n",
       "    <tr>\n",
       "      <th>count</th>\n",
       "      <td>4195.000000</td>\n",
       "      <td>4195.000000</td>\n",
       "      <td>4195.000000</td>\n",
       "      <td>4195.000000</td>\n",
       "      <td>4195.000000</td>\n",
       "      <td>4195.000000</td>\n",
       "      <td>4195.000000</td>\n",
       "      <td>4195.000000</td>\n",
       "      <td>4195.000000</td>\n",
       "      <td>4195.000000</td>\n",
       "      <td>4195.000000</td>\n",
       "      <td>4195.000000</td>\n",
       "      <td>4195.000000</td>\n",
       "    </tr>\n",
       "    <tr>\n",
       "      <th>mean</th>\n",
       "      <td>4.519475</td>\n",
       "      <td>6.547788</td>\n",
       "      <td>-149.190942</td>\n",
       "      <td>163.522288</td>\n",
       "      <td>68.297997</td>\n",
       "      <td>0.125830</td>\n",
       "      <td>-11.224603</td>\n",
       "      <td>-2.184779</td>\n",
       "      <td>11.231716</td>\n",
       "      <td>20.321890</td>\n",
       "      <td>170.046246</td>\n",
       "      <td>5.547367</td>\n",
       "      <td>5.750165</td>\n",
       "    </tr>\n",
       "    <tr>\n",
       "      <th>std</th>\n",
       "      <td>0.256049</td>\n",
       "      <td>8.503939</td>\n",
       "      <td>265.087984</td>\n",
       "      <td>272.930331</td>\n",
       "      <td>70.532565</td>\n",
       "      <td>0.477901</td>\n",
       "      <td>14.106852</td>\n",
       "      <td>2.346558</td>\n",
       "      <td>2.358067</td>\n",
       "      <td>14.225526</td>\n",
       "      <td>296.887015</td>\n",
       "      <td>1.517038</td>\n",
       "      <td>8.339211</td>\n",
       "    </tr>\n",
       "    <tr>\n",
       "      <th>min</th>\n",
       "      <td>3.596313</td>\n",
       "      <td>2.802720</td>\n",
       "      <td>-5515.000000</td>\n",
       "      <td>23.000000</td>\n",
       "      <td>0.648602</td>\n",
       "      <td>-4.091826</td>\n",
       "      <td>-336.000000</td>\n",
       "      <td>-39.000000</td>\n",
       "      <td>9.000000</td>\n",
       "      <td>11.000000</td>\n",
       "      <td>23.000000</td>\n",
       "      <td>4.147707</td>\n",
       "      <td>2.589085</td>\n",
       "    </tr>\n",
       "    <tr>\n",
       "      <th>25%</th>\n",
       "      <td>4.349497</td>\n",
       "      <td>4.478637</td>\n",
       "      <td>-154.000000</td>\n",
       "      <td>92.000000</td>\n",
       "      <td>28.090227</td>\n",
       "      <td>-0.040779</td>\n",
       "      <td>-14.000000</td>\n",
       "      <td>-3.000000</td>\n",
       "      <td>10.000000</td>\n",
       "      <td>15.000000</td>\n",
       "      <td>94.000000</td>\n",
       "      <td>5.061843</td>\n",
       "      <td>3.862810</td>\n",
       "    </tr>\n",
       "    <tr>\n",
       "      <th>50%</th>\n",
       "      <td>4.522147</td>\n",
       "      <td>5.618798</td>\n",
       "      <td>-111.000000</td>\n",
       "      <td>123.000000</td>\n",
       "      <td>45.816625</td>\n",
       "      <td>0.085620</td>\n",
       "      <td>-10.000000</td>\n",
       "      <td>-2.000000</td>\n",
       "      <td>11.000000</td>\n",
       "      <td>19.000000</td>\n",
       "      <td>127.000000</td>\n",
       "      <td>5.380853</td>\n",
       "      <td>4.781513</td>\n",
       "    </tr>\n",
       "    <tr>\n",
       "      <th>75%</th>\n",
       "      <td>4.693350</td>\n",
       "      <td>6.880904</td>\n",
       "      <td>-79.000000</td>\n",
       "      <td>170.000000</td>\n",
       "      <td>78.664202</td>\n",
       "      <td>0.253930</td>\n",
       "      <td>-6.000000</td>\n",
       "      <td>-1.000000</td>\n",
       "      <td>12.000000</td>\n",
       "      <td>23.000000</td>\n",
       "      <td>175.000000</td>\n",
       "      <td>5.748553</td>\n",
       "      <td>5.887947</td>\n",
       "    </tr>\n",
       "    <tr>\n",
       "      <th>max</th>\n",
       "      <td>5.391993</td>\n",
       "      <td>153.703569</td>\n",
       "      <td>-15.000000</td>\n",
       "      <td>5444.000000</td>\n",
       "      <td>631.158927</td>\n",
       "      <td>4.219429</td>\n",
       "      <td>-2.000000</td>\n",
       "      <td>0.000000</td>\n",
       "      <td>50.000000</td>\n",
       "      <td>337.000000</td>\n",
       "      <td>5515.000000</td>\n",
       "      <td>32.762073</td>\n",
       "      <td>150.432368</td>\n",
       "    </tr>\n",
       "  </tbody>\n",
       "</table>\n",
       "</div>"
      ],
      "text/plain": [
       "                0            1      ...                11           12\n",
       "count  4195.000000  4195.000000     ...       4195.000000  4195.000000\n",
       "mean      4.519475     6.547788     ...          5.547367     5.750165\n",
       "std       0.256049     8.503939     ...          1.517038     8.339211\n",
       "min       3.596313     2.802720     ...          4.147707     2.589085\n",
       "25%       4.349497     4.478637     ...          5.061843     3.862810\n",
       "50%       4.522147     5.618798     ...          5.380853     4.781513\n",
       "75%       4.693350     6.880904     ...          5.748553     5.887947\n",
       "max       5.391993   153.703569     ...         32.762073   150.432368\n",
       "\n",
       "[8 rows x 13 columns]"
      ]
     },
     "execution_count": 5,
     "metadata": {},
     "output_type": "execute_result"
    }
   ],
   "source": [
    "train = pd.read_csv('../input/train.csv', iterator=True, chunksize=150_000, dtype={'acoustic_data': np.int16, 'time_to_failure': np.float64})\n",
    "\n",
    "X_train = pd.DataFrame()\n",
    "y_train = pd.Series()\n",
    "for df in train:\n",
    "    ch = gen_features(df['acoustic_data'])\n",
    "    X_train = X_train.append(ch, ignore_index=True)\n",
    "    y_train = y_train.append(pd.Series(df['time_to_failure'].values[-1]))\n",
    "    \n",
    "\n",
    "# Let's see what we have done\n",
    "X_train.describe()"
   ]
  },
  {
   "cell_type": "markdown",
   "metadata": {
    "_uuid": "1b34ec7db9df118192efc89816e9fb3d7257b2ab"
   },
   "source": [
    "## Implement Model\n",
    "In this case, I am implementing an [LSTM Model](https://machinelearningmastery.com/multivariate-time-series-forecasting-lstms-keras/). \n",
    "\n",
    "Siraj implemented an SVR and a CatBoost model. Since I want to use this as a template, I didn't replicate the SVR or CatBoost model here, but decided to implement a different one. If you are interested in the others, have a look at Siraj's work. The SVR seems to get a better score than the CatBoost model.\n",
    "\n",
    "I ran into some troupble with the shapes of the training and testing data. The LSTM model itself is not that important to me here, since I only want to use this kernel as a template for other models. Regardless, if you are interested, this model obtained a score of 1,664 in the competition.\n",
    "\n"
   ]
  },
  {
   "cell_type": "code",
   "execution_count": 6,
   "metadata": {
    "_uuid": "690627e7f3a11d5814b64bb062ebc8e85cab3aff"
   },
   "outputs": [
    {
     "name": "stderr",
     "output_type": "stream",
     "text": [
      "Using TensorFlow backend.\n"
     ]
    },
    {
     "name": "stdout",
     "output_type": "stream",
     "text": [
      "(3356, 13)\n",
      "(839, 13)\n",
      "(3356,)\n",
      "(839,)\n",
      "Train on 3356 samples, validate on 839 samples\n",
      "Epoch 1/15\n",
      " - 4s - loss: 4.5131 - val_loss: 2.9251\n",
      "Epoch 2/15\n",
      " - 2s - loss: 3.0314 - val_loss: 2.8589\n",
      "Epoch 3/15\n",
      " - 2s - loss: 2.9952 - val_loss: 2.8210\n",
      "Epoch 4/15\n",
      " - 2s - loss: 2.9340 - val_loss: 2.7245\n",
      "Epoch 5/15\n",
      " - 2s - loss: 2.8092 - val_loss: 2.5298\n",
      "Epoch 6/15\n",
      " - 2s - loss: 2.5451 - val_loss: 2.1408\n",
      "Epoch 7/15\n",
      " - 2s - loss: 2.2748 - val_loss: 2.0834\n",
      "Epoch 8/15\n",
      " - 2s - loss: 2.2498 - val_loss: 2.0798\n",
      "Epoch 9/15\n",
      " - 2s - loss: 2.2411 - val_loss: 2.0772\n",
      "Epoch 10/15\n",
      " - 2s - loss: 2.2395 - val_loss: 2.0636\n",
      "Epoch 11/15\n",
      " - 2s - loss: 2.2274 - val_loss: 2.0624\n",
      "Epoch 12/15\n",
      " - 2s - loss: 2.2253 - val_loss: 2.0606\n",
      "Epoch 13/15\n",
      " - 2s - loss: 2.2255 - val_loss: 2.0599\n",
      "Epoch 14/15\n",
      " - 2s - loss: 2.2211 - val_loss: 2.0572\n",
      "Epoch 15/15\n",
      " - 2s - loss: 2.2211 - val_loss: 2.0554\n",
      "_________________________________________________________________\n",
      "Layer (type)                 Output Shape              Param #   \n",
      "=================================================================\n",
      "lstm_1 (LSTM)                (None, 50)                10400     \n",
      "_________________________________________________________________\n",
      "dense_1 (Dense)              (None, 1)                 51        \n",
      "=================================================================\n",
      "Total params: 10,451\n",
      "Trainable params: 10,451\n",
      "Non-trainable params: 0\n",
      "_________________________________________________________________\n"
     ]
    },
    {
     "data": {
      "image/png": "[encoded data removed]",
      "text/plain": [
       "<Figure size 432x288 with 1 Axes>"
      ]
     },
     "metadata": {},
     "output_type": "display_data"
    }
   ],
   "source": [
    "# LSTM Model\n",
    "from sklearn.preprocessing import StandardScaler\n",
    "from sklearn.model_selection import train_test_split\n",
    "from sklearn.metrics import mean_squared_error\n",
    "from keras.models import Sequential\n",
    "from keras.layers import Dense\n",
    "from keras.layers import LSTM\n",
    "\n",
    "scaler = StandardScaler()\n",
    "scaler.fit(X_train)\n",
    "X_train_scaled = scaler.transform(X_train)\n",
    "\n",
    "# split into train and test sets\n",
    "train_X, X_test, train_y, y_test = train_test_split(X_train_scaled, y_train, test_size=0.2)\n",
    "print(train_X.shape)\n",
    "print(X_test.shape)\n",
    "print(train_y.shape)\n",
    "print(y_test.shape)\n",
    "\n",
    "# reshape to correct dimensions\n",
    "train_X = train_X.reshape(3356, 13, 1)\n",
    "X_test = X_test.reshape(839,13,1)\n",
    "\n",
    "# Model\n",
    "model = Sequential()\n",
    "model.add(LSTM(50, input_shape=(13,1)))\n",
    "model.add(Dense(1))\n",
    "model.compile(loss='mae', optimizer='adam')\n",
    "\n",
    "# fit network\n",
    "history = model.fit(train_X, \n",
    "                    train_y, \n",
    "                    epochs=15, \n",
    "                    validation_data=(X_test, y_test),\n",
    "                    batch_size=64,\n",
    "                    verbose=2, \n",
    "                    shuffle=False)\n",
    "\n",
    "model.summary()\n",
    "\n",
    "# plot history\n",
    "plt.plot(history.history['loss'], label='train')\n",
    "plt.plot(history.history['val_loss'], label='test')\n",
    "plt.legend()\n",
    "plt.show()\n"
   ]
  },
  {
   "cell_type": "markdown",
   "metadata": {
    "_uuid": "94cb798c98bf452c5a81ee72ab0ab4960d05c5ce"
   },
   "source": [
    "## Evaluate Model\n",
    "Do the hyper parameter tuning or other means of evaluating the model here.\n",
    "\n",
    "I commented this out since it's not related to the LSTM model above.  "
   ]
  },
  {
   "cell_type": "code",
   "execution_count": 7,
   "metadata": {
    "_uuid": "8a7b2318ebc1f38f7b1b478d7ad9b330591584c0"
   },
   "outputs": [
    {
     "data": {
      "text/plain": [
       "'scaler = StandardScaler()\\nscaler.fit(X_train)\\nX_train_scaled = scaler.transform(X_train)\\n\\n# Parameters for hyper parameter tuning\\n#parameters = [{\\'gamma\\': [0.001, 0.005, 0.01, 0.02, 0.05, 0.1],\\n#               \\'C\\': [0.1, 0.2, 0.25, 0.5, 1, 1.5, 2, 2.5, 3.0, 5]}]\\n\\n# Hyper parameter tuning\\n#reg1 = GridSearchCV(SVR(kernel=\\'rbf\\', tol=0.01), parameters, cv=5, scoring=\\'neg_mean_absolute_error\\')\\n#reg1.fit(X_train_scaled, y_train.values.flatten())\\n#y_pred1 = reg1.predict(X_train_scaled)\\n\\n#print(\"Best CV score: {:.4f}\".format(reg1.best_score_))\\n#print(reg1.best_params_)\\n\\nmodel.compile(optimizer=adam(lr=0.0005), loss=\"mae\")\\n\\nmodel.fit(X_train_scaled, y_train.values.flatten())\\ny_pred1 = model.predict(X_trained_scaled)\\n\\n\\n\\nhistory = model.fit_generator(train_gen,\\n                              steps_per_epoch=1000,\\n                              epochs=30,\\n                              verbose=0,\\n                              callbacks=cb,\\n                              validation_data=valid_gen,\\n                              validation_steps=200)'"
      ]
     },
     "execution_count": 7,
     "metadata": {},
     "output_type": "execute_result"
    }
   ],
   "source": [
    "# Evaluate model\n",
    "'''scaler = StandardScaler()\n",
    "scaler.fit(X_train)\n",
    "X_train_scaled = scaler.transform(X_train)\n",
    "\n",
    "# Parameters for hyper parameter tuning\n",
    "#parameters = [{'gamma': [0.001, 0.005, 0.01, 0.02, 0.05, 0.1],\n",
    "#               'C': [0.1, 0.2, 0.25, 0.5, 1, 1.5, 2, 2.5, 3.0, 5]}]\n",
    "\n",
    "# Hyper parameter tuning\n",
    "#reg1 = GridSearchCV(SVR(kernel='rbf', tol=0.01), parameters, cv=5, scoring='neg_mean_absolute_error')\n",
    "#reg1.fit(X_train_scaled, y_train.values.flatten())\n",
    "#y_pred1 = reg1.predict(X_train_scaled)\n",
    "\n",
    "#print(\"Best CV score: {:.4f}\".format(reg1.best_score_))\n",
    "#print(reg1.best_params_)\n",
    "\n",
    "model.compile(optimizer=adam(lr=0.0005), loss=\"mae\")\n",
    "\n",
    "model.fit(X_train_scaled, y_train.values.flatten())\n",
    "y_pred1 = model.predict(X_trained_scaled)\n",
    "\n",
    "\n",
    "\n",
    "history = model.fit_generator(train_gen,\n",
    "                              steps_per_epoch=1000,\n",
    "                              epochs=30,\n",
    "                              verbose=0,\n",
    "                              callbacks=cb,\n",
    "                              validation_data=valid_gen,\n",
    "                              validation_steps=200)''' \n",
    "\n"
   ]
  },
  {
   "cell_type": "markdown",
   "metadata": {
    "_uuid": "ce15e862f2c592102253a339b8cf622019561abb"
   },
   "source": [
    "## Finalise Submission\n",
    "Siraj doesn't provide the code for this. I had to glean this from other kernels. So far, we have only seen training data. We haven't dealt with test data, so that needs to be done as well."
   ]
  },
  {
   "cell_type": "code",
   "execution_count": 8,
   "metadata": {
    "_uuid": "6dcfd6760d343d801ad82716482abdb9e7225056"
   },
   "outputs": [],
   "source": [
    "# submission format\n",
    "submission = pd.read_csv('../input/sample_submission.csv', index_col='seg_id')\n",
    "X_test = pd.DataFrame()\n",
    "\n",
    "# prepare test data\n",
    "for seg_id in submission.index:\n",
    "    seg = pd.read_csv('../input/test/' + seg_id + '.csv')\n",
    "    ch = gen_features(seg['acoustic_data'])\n",
    "    X_test = X_test.append(ch, ignore_index=True)\n",
    "\n",
    "X_test = scaler.transform(X_test)"
   ]
  },
  {
   "cell_type": "markdown",
   "metadata": {
    "_uuid": "8f77b86f347708aca857cf6bec6d7381ba2d014b"
   },
   "source": [
    "### Generate predictions for the submission.\n",
    "\n",
    "The prediction here is from the LSTM model. You would have to reinitialise the SVR with the hyper parameter tuning values and get your prediction from that if you want to submit SVR model data."
   ]
  },
  {
   "cell_type": "code",
   "execution_count": 9,
   "metadata": {
    "_uuid": "461614a70baee26d83a57154838a4b68a772c669"
   },
   "outputs": [],
   "source": [
    "# model of choice here\n",
    "#(2624, 13)\n",
    "X_test = X_test.reshape(2624, 13, 1)\n",
    "y_pred2 = model.predict(X_test)"
   ]
  },
  {
   "cell_type": "code",
   "execution_count": 10,
   "metadata": {
    "_uuid": "04f467672bc68c5fc5e0698927f9a8aac12f8d78"
   },
   "outputs": [],
   "source": [
    "# write submission file\n",
    "submission['time_to_failure'] = y_pred2\n",
    "submission.to_csv('submission.csv')"
   ]
  },
  {
   "cell_type": "markdown",
   "metadata": {
    "_uuid": "483ef86e8a3c9ad40c211b02c91b198526b7d6ce"
   },
   "source": [
    "## Future Directions\n",
    "1. Recurrent Networks. See my kernel, [RNN Starter Kernel](https://www.kaggle.com/devilears/rnn-starter-kernel-with-notebook), for starter code.\n",
    "1. Genetic Algorithms.\n",
    "1. [Ordinary Differential Equation Network](https://towardsdatascience.com/paper-summary-neural-ordinary-differential-equations-37c4e52df128). See also [Neural Ordinary Differential Equations](https://paperswithcode.com/paper/neural-ordinary-differential-equations)."
   ]
  }
 ],
 "metadata": {
  "kernelspec": {
   "display_name": "Python 3",
   "language": "python",
   "name": "python3"
  },
  "language_info": {
   "codemirror_mode": {
    "name": "ipython",
    "version": 3
   },
   "file_extension": ".py",
   "mimetype": "text/x-python",
   "name": "python",
   "nbconvert_exporter": "python",
   "pygments_lexer": "ipython3",
   "version": "3.6.8"
  }
 },
 "nbformat": 4,
 "nbformat_minor": 1
}
