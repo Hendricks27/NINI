{
 "cells": [
  {
   "cell_type": "markdown",
   "metadata": {
    "_uuid": "24be44442fc23e7235dc34444b33d3c0a018d46f"
   },
   "source": [
    "## **Can RNNs extract information from seismic signals?**\n",
    "\n",
    "*[See [here](https://www.kaggle.com/michael422/spectrogram-convolution) for a related article on using [Convolutional Neural Networks](https://www.kaggle.com/michael422/spectrogram-convolution) on seismic data.]*\n",
    "\n",
    "Recurrent neural networks (RNNs) and variants such as long short-term memory ([LSTM](https://arxiv.org/abs/1402.1128)) are used in a range of applications to interpret sequential data.  Here we will use RNNs to try to predict the time of the next simulated earthquake (\"labquake\") based on the acoustic signals emitted by the laboratory setup.\n",
    "\n",
    "We use the first 400MM records in order to process efficiently in-memory:"
   ]
  },
  {
   "cell_type": "code",
   "execution_count": 1,
   "metadata": {
    "_cell_guid": "b1076dfc-b9ad-4769-8c92-a6c4dae69d19",
    "_uuid": "8f2839f25d086af736a60e9eeb907d3b93b6e0e5"
   },
   "outputs": [
    {
     "name": "stdout",
     "output_type": "stream",
     "text": [
      "input data shape: (400000000, 2)\n"
     ]
    }
   ],
   "source": [
    "import os\n",
    "import numpy as np\n",
    "import pandas as pd\n",
    "from datetime import datetime\n",
    "from functools import partial\n",
    "import tensorflow as tf\n",
    "from tqdm import tqdm_notebook, tnrange, tqdm, trange\n",
    "from scipy import signal\n",
    "import matplotlib.pyplot as plt\n",
    "np.warnings.filterwarnings('ignore')\n",
    "\n",
    "rng = np.random.RandomState(datetime.now().microsecond)\n",
    "\n",
    "data_path = r'../input'\n",
    "tf_path = os.path.join(data_path, 'tf')\n",
    "\n",
    "nrows = 400000000   # 629145480\n",
    "data = (pd.read_csv(os.path.join(data_path, 'train.csv'),\n",
    "                    nrows=nrows,\n",
    "                    dtype={'acoustic_data': np.int16,\n",
    "                           'time_to_failure': np.float32})\n",
    "        .values)\n",
    "print(f'input data shape: {data.shape}')"
   ]
  },
  {
   "cell_type": "markdown",
   "metadata": {
    "_uuid": "f2a7c9892bedde22e40f159fa93feccdd24903b3"
   },
   "source": [
    "Center and log-scale the raw signal data."
   ]
  },
  {
   "cell_type": "code",
   "execution_count": 2,
   "metadata": {
    "_cell_guid": "79c7e3d0-c299-4dcb-8224-4455121ee9b0",
    "_kg_hide-input": true,
    "_uuid": "d629ff2d2480ee46fbb7e2d37f6b5fab8052498a"
   },
   "outputs": [
    {
     "name": "stdout",
     "output_type": "stream",
     "text": [
      "data recentered about mean=4.5531\n"
     ]
    }
   ],
   "source": [
    "obs = data[:, 0]\n",
    "obs_mean = obs.mean()\n",
    "\n",
    "def preprocess_obs(obs, obs_mean):\n",
    "    obs = obs - obs_mean\n",
    "    obs = (np.log(obs * np.sign(obs) + 1)) * np.sign(obs)\n",
    "    return obs\n",
    "\n",
    "print(f'data recentered about mean={obs_mean:.4f}')\n",
    "obs = preprocess_obs(obs, obs_mean)\n",
    "data = np.c_[obs, data[:, 1]]"
   ]
  },
  {
   "cell_type": "markdown",
   "metadata": {
    "_uuid": "9f18ef6364c1a345f5032d1e05afaec3bef84ec7"
   },
   "source": [
    "Split train and validation data.  Notice the difference in distribution between the two sets."
   ]
  },
  {
   "cell_type": "code",
   "execution_count": 3,
   "metadata": {
    "_uuid": "afce79799edb2560021bd292915f5f7a874de94f"
   },
   "outputs": [
    {
     "name": "stdout",
     "output_type": "stream",
     "text": [
      "train mean ttf: 6.0704, val mean ttf: 5.0970\n",
      "train 1st quartile ttf: 2.8643, val 1st quartile ttf: 2.2285\n",
      "train 3rd quartile ttf: 8.7798, val 3rd quartile ttf: 7.4921\n"
     ]
    }
   ],
   "source": [
    "TRAIN_VAL_SPLIT = 0.75\n",
    "\n",
    "train_size = int(data.shape[0] * TRAIN_VAL_SPLIT)\n",
    "train_data = data[:train_size, :]\n",
    "val_data = data[train_size:, :]\n",
    "\n",
    "print(f'train mean ttf: {train_data[:, 1].mean():.4f}, ' +\n",
    "      f'val mean ttf: {val_data[:, -1].mean():.4f}')\n",
    "print(f'train 1st quartile ttf: {np.quantile(train_data[:, -1], 0.25):.4f}, ' +\n",
    "      f'val 1st quartile ttf: {np.quantile(val_data[:, -1], 0.25):.4f}')\n",
    "print(f'train 3rd quartile ttf: {np.quantile(train_data[:, -1], 0.75):.4f}, ' +\n",
    "      f'val 3rd quartile ttf: {np.quantile(val_data[:, -1], 0.75):.4f}')"
   ]
  },
  {
   "cell_type": "markdown",
   "metadata": {
    "_uuid": "ebb65103b5dcde95a79bb725783b88d87c40286a"
   },
   "source": [
    "The raw signal samples have dimensionality 150,000.  The signals must be reduced to a length that is manageable by an RNN.  We will use a reduced sequence length of 40, which is an integer factor of the test sample length.  Then define a few simple feature extractors that downsample the data by dividing it into frames, returning a sequence of frame-wise aggregates:\n",
    "1. the range (max - min) of the log amplitudes\n",
    "1. the 10-90 percentile ranges of log amplitudes (more robust than range)\n",
    "1. an estimate/proxy for the energy level of the signal, using the sum of the log amplitudes"
   ]
  },
  {
   "cell_type": "code",
   "execution_count": 4,
   "metadata": {
    "_uuid": "dd7b7c73d5592e54c90f3c3c2bcfe63a19ee0b2c"
   },
   "outputs": [],
   "source": [
    "RAW_SEQ_LEN = 150000\n",
    "# integer factors: {20, 25, 30, 40, 50, 60, 75, 80, 100, 120, 150}\n",
    "DSAMP_SEQ_LEN = 40\n",
    "\n",
    "assert (RAW_SEQ_LEN / DSAMP_SEQ_LEN) % 1 == 0\n",
    "downsample_rate = int(RAW_SEQ_LEN / DSAMP_SEQ_LEN)\n",
    "\n",
    "def range_downsample(x, dsamp_rate):\n",
    "    mat = x.reshape(-1, dsamp_rate).T\n",
    "    return mat.max(axis=0) - mat.min(axis=0)\n",
    "\n",
    "def range80_downsample(x, dsamp_rate):\n",
    "    mat = x.reshape(-1, dsamp_rate).T\n",
    "    q90 = np.quantile(mat, 0.9, axis=0)\n",
    "    q10 = np.quantile(mat, 0.1, axis=0)\n",
    "    return q90 - q10\n",
    "\n",
    "def energy_downsample(x, dsamp_rate):\n",
    "    mat = x.reshape(-1, dsamp_rate).T\n",
    "    return np.fabs(mat).sum(axis=0)"
   ]
  },
  {
   "cell_type": "markdown",
   "metadata": {
    "_uuid": "110fb4540584b1a912adde9734a35b4a3c822d10"
   },
   "source": [
    "Calculate the mean and standard deviation of the features in order to standardize inputs to model.  We will reframe the full dataset to generate these scaling factors."
   ]
  },
  {
   "cell_type": "code",
   "execution_count": 5,
   "metadata": {
    "_uuid": "1e1ee75fedbb3db6f037d82711ed2a259431b43b"
   },
   "outputs": [
    {
     "name": "stdout",
     "output_type": "stream",
     "text": [
      "downsampled sequence length: 40\n",
      "downsample rate: 3750\n",
      "range mean:  6.2092, range sigma:  1.3457\n",
      "range80 mean:  3.4844, range80 sigma:  0.5627\n",
      "energy mean:  4585.3423, energy sigma:  756.1453\n"
     ]
    }
   ],
   "source": [
    "def get_scaling_factors(data, dsamp_rate):\n",
    "    trunc = (len(data) // dsamp_rate) * dsamp_rate\n",
    "    mat = data[:trunc].reshape((-1, dsamp_rate)).T\n",
    "\n",
    "    min_ = mat.min(axis=0)\n",
    "    max_ = mat.max(axis=0)\n",
    "    range_mean = (max_ - min_).mean()\n",
    "    range_std = (max_ - min_).std()\n",
    "\n",
    "    q10 = np.quantile(mat, 0.1, axis=0)\n",
    "    q90 = np.quantile(mat, 0.9, axis=0)\n",
    "    range80_mean = (q90 - q10).mean()\n",
    "    range80_std = (q90 - q10).std()\n",
    "\n",
    "    energy_mean = np.fabs(mat).sum(axis=0).mean()\n",
    "    energy_std = np.fabs(mat).sum(axis=0).std()\n",
    "\n",
    "    return (range_mean, range80_mean, energy_mean,\n",
    "            range_std, range80_std, energy_std)\n",
    "\n",
    "range_mean, range80_mean, energy_mean,\\\n",
    "    range_std, range80_std, energy_std =\\\n",
    "    get_scaling_factors(obs, downsample_rate)\n",
    "\n",
    "print(f'downsampled sequence length: {DSAMP_SEQ_LEN}')\n",
    "print(f'downsample rate: {downsample_rate}')\n",
    "print(f'range mean: {range_mean: .4f}, ' +\n",
    "      f'range sigma: {range_std: .4f}')\n",
    "print(f'range80 mean: {range80_mean: .4f}, ' +\n",
    "      f'range80 sigma: {range80_std: .4f}')      \n",
    "print(f'energy mean: {energy_mean: .4f}, ' +\n",
    "      f'energy sigma: {energy_std: .4f}')"
   ]
  },
  {
   "cell_type": "markdown",
   "metadata": {
    "_uuid": "414a5863a117cc690f8ab57c0e57f4392076716e"
   },
   "source": [
    "Define a function to retrieve sample features from a sample of raw signal, and a function to generate batches of these samples."
   ]
  },
  {
   "cell_type": "code",
   "execution_count": 6,
   "metadata": {
    "_uuid": "0ec0c22ec4d3a2014be063f09d54c7ccd0e4742d"
   },
   "outputs": [],
   "source": [
    "def get_feats(args_in):\n",
    "    sample_in, dsamp_rate = args_in\n",
    "    range_ = ((range_downsample(sample_in, dsamp_rate)\n",
    "                - range_mean)\n",
    "                / range_std)\n",
    "    range80 = ((range80_downsample(sample_in, dsamp_rate)\n",
    "                - range80_mean)\n",
    "               / range80_std)\n",
    "    energy = ((energy_downsample(sample_in, dsamp_rate)\n",
    "               - energy_mean)\n",
    "              / energy_std)\n",
    "    return np.c_[range_, range80, energy]\n",
    "\n",
    "\n",
    "def get_batch(data_in, n_samples, dsamp_rate, seq_len=150000):\n",
    "    n_rows = data_in.shape[0]\n",
    "    start_list = [rng.randint(0, n_rows-seq_len)\n",
    "                  for i in range(n_samples)]\n",
    "    X = map(get_feats,\n",
    "            ((data_in[start:start+seq_len, 0], dsamp_rate)\n",
    "                 for start in start_list))\n",
    "    y = [data_in[start+seq_len, 1] for start in start_list]\n",
    "    return list(X), y"
   ]
  },
  {
   "cell_type": "markdown",
   "metadata": {
    "_uuid": "f4f5647feab37e46f0891a7b80c0b98019770ef5"
   },
   "source": [
    "Compare the downsampled features with the original log signal.  A lot of information is lost, but the coarse levels of the features correspond to amplitude patterns in the original signal.  Also, the features are very highly correlated.  Either the 10-90 range or the energy would probably be sufficient as a single input to the RNN, but we will use all three features in this demonstration."
   ]
  },
  {
   "cell_type": "code",
   "execution_count": 7,
   "metadata": {
    "_kg_hide-input": true,
    "_uuid": "b44fc70f59f090d5572288e328265d6566e7c944"
   },
   "outputs": [
    {
     "data": {
      "image/png": "[encoded data removed]",
      "text/plain": [
       "<Figure size 1008x576 with 4 Axes>"
      ]
     },
     "metadata": {},
     "output_type": "display_data"
    }
   ],
   "source": [
    "start = 55000000\n",
    "sig_in = data[start:start+RAW_SEQ_LEN, 0]\n",
    "feats = get_feats((sig_in, downsample_rate))\n",
    "\n",
    "data_list = [sig_in] + [feats[:, i] for i in range(3)]\n",
    "titles = [_ + ':' for _ in ['original log signal', 'range',\n",
    "                            '10-90 percentile range', 'energy']\n",
    "         ]\n",
    "\n",
    "fig = plt.figure(figsize=(14, 8))\n",
    "for i in range(4):\n",
    "    ax = fig.add_subplot(4, 1, i+1)\n",
    "    plt.plot(data_list[i])\n",
    "    plt.title(titles[i], fontsize=12, loc='left')\n",
    "    ax.margins(x=0)\n",
    "    plt.axis('off');"
   ]
  },
  {
   "cell_type": "markdown",
   "metadata": {
    "_uuid": "09287b421456b7bd47fe642850cdfdadc9e54393"
   },
   "source": [
    "Next, set model parameters.  The primary options are:\n",
    "1. Number of layers in the RNN\n",
    "1. Number of hidden dimensions in each RNN layer\n",
    "1. Forward-only RNN, or bi-directional\n",
    "1. Type of RNN cell ([LSTM](https://arxiv.org/abs/1402.1128) or [GRU](https://arxiv.org/abs/1412.3555))\n",
    "\n",
    "After the RNN, we concatenate the final hidden states from each layer into a single 1-dimensional vector, and feed that vector into a densely-connected network.  Using all of the final hidden states preserves multiple levels of extracted features (fine-grained signal information and larger-scale features) to pass into the dense layers.\n",
    "\n",
    "In the case of a bi-directional RNN, concat the final states from the forward and reverse RNNs into a single vector."
   ]
  },
  {
   "cell_type": "code",
   "execution_count": 8,
   "metadata": {
    "_uuid": "d24cd12a9f47aae68224a94d69239496d37c81cd"
   },
   "outputs": [],
   "source": [
    "n_features = 3\n",
    "\n",
    "init_mode = 'FAN_AVG'\n",
    "init_uniform = True # False for normal init\n",
    "\n",
    "# RNN config:\n",
    "dim_h = [256, 256, 256] # dimensions of RNN internal layers\n",
    "model_type = 'bi'  # {'bi', 'fwd'}: bidirectional or forward-only\n",
    "cell_type = 'LSTM' # {'LSTM', 'GRU'}\n",
    "rnn_activation = tf.nn.elu\n",
    "lstm_use_peepholes = True\n",
    "\n",
    "# feedforward layers:\n",
    "dim_ff = [512, 512, 512] # dimensions of feedforward layers\n",
    "ffn_activation = tf.nn.relu\n",
    "ffn_drop_rate = 0.2\n",
    "\n",
    "n_epochs = 2000\n",
    "eta = 0.000005\n",
    "train_batch_size = 100\n",
    "objective = 'MSE'  # {'MSE', 'MAE', 'exp_error'}\n",
    "optimizer_name = 'adam'# ['sgd', 'adam', 'adagrad', 'adadelta']\n",
    "eval_batch_size = 100\n",
    "n_eval_batches = 10\n",
    "stdout_eval_interval = 100\n",
    "tensorboard_eval_interval = 20\n",
    "\n",
    "optimizers = {\n",
    "    'sgd': tf.train.GradientDescentOptimizer,\n",
    "    'adam': tf.train.AdamOptimizer,\n",
    "    'adagrad': tf.train.AdagradOptimizer,\n",
    "    'adadelta': tf.train.AdadeltaOptimizer\n",
    "    }"
   ]
  },
  {
   "cell_type": "markdown",
   "metadata": {
    "_uuid": "00d697512bc5aff76665cd3f16961cee75e1b9ff"
   },
   "source": [
    "Build the computational graph."
   ]
  },
  {
   "cell_type": "code",
   "execution_count": 9,
   "metadata": {
    "_uuid": "f937d3edde6fd944db8e6fb882cb17673dd417df"
   },
   "outputs": [],
   "source": [
    "try:\n",
    "    sess.close()\n",
    "except: pass\n",
    "\n",
    "global graph\n",
    "graph = tf.Graph()\n",
    "tf.reset_default_graph()\n",
    "with graph.as_default():\n",
    "\n",
    "    X = tf.placeholder(tf.float32,\n",
    "        shape=(None, DSAMP_SEQ_LEN, n_features), name='X')\n",
    "    y = tf.placeholder(tf.float32, shape=(None), name='y')\n",
    "    X_r = tf.reverse(X, [1], name='X_reversed')\n",
    "    train_flag = tf.placeholder_with_default(False, shape=(), name='train_flag')\n",
    "\n",
    "    init = tf.contrib.layers.variance_scaling_initializer(\n",
    "        mode=init_mode, uniform=init_uniform)\n",
    "\n",
    "    if cell_type == 'LSTM':\n",
    "        cell = partial(tf.nn.rnn_cell.LSTMCell,\n",
    "                       use_peepholes=lstm_use_peepholes,\n",
    "                       activation=rnn_activation,\n",
    "                       initializer=init)\n",
    "\n",
    "    elif cell_type == 'GRU':\n",
    "        cell = partial(tf.nn.rnn_cell.GRUCell,\n",
    "                       activation=rnn_activation,\n",
    "                       kernel_initializer=init)\n",
    "\n",
    "    # unroll RNN\n",
    "    with tf.name_scope('forward_RNN'):\n",
    "        fwd_cells = [cell(num_units=layer, name='l' + str(i+1) + '_fwd')\n",
    "                    for i, layer in enumerate(dim_h)]\n",
    "\n",
    "    with tf.name_scope('reverse_RNN'):\n",
    "        rev_cells = [cell(num_units=layer, name='l' + str(i+1) + '_rev')\n",
    "                    for i, layer in enumerate(dim_h)]\n",
    "\n",
    "    multi_rnn = tf.contrib.rnn.MultiRNNCell(fwd_cells)\n",
    "    multi_rnn_r = tf.contrib.rnn.MultiRNNCell(rev_cells)\n",
    "\n",
    "    rnn_out, states = tf.nn.dynamic_rnn(multi_rnn, X, dtype=tf.float32)\n",
    "    rnn_out_r, states_r = tf.nn.dynamic_rnn(multi_rnn_r, X_r, dtype=tf.float32)\n",
    "\n",
    "    # concat the final states of each RNN layer\n",
    "    # rnn_out = batch x seq_len x dim_h\n",
    "    # states = (layers x (c, h)) x batch x dim_h\n",
    "    concat_fwd = tf.concat([layer[1] for layer in states], 1)\n",
    "    concat_rev = tf.concat([layer[1] for layer in states_r], 1)\n",
    "\n",
    "    # concat the forward and reverse outputs (if bidirectional)\n",
    "    if model_type == 'bi':\n",
    "        concat = tf.concat([concat_fwd, concat_rev], 1)\n",
    "    elif model_type == 'fwd':\n",
    "        concat = tf.identity(concat_fwd)\n",
    "\n",
    "    # unroll feedforward layers\n",
    "    ff_layers = [concat]\n",
    "    dropout = partial(tf.layers.dropout, rate=ffn_drop_rate, training=train_flag)\n",
    "    for i, layer in enumerate(dim_ff):\n",
    "        ff_layers.append(dropout(tf.layers.dense(ff_layers[i], dim_ff[i],\n",
    "                                                 activation=ffn_activation,\n",
    "                                                 name='feedforward_' + str(i+1))))\n",
    "\n",
    "    outputs = tf.layers.dense(ff_layers[-1], 1, name='outputs')\n",
    "\n",
    "    MAE = tf.reduce_mean(tf.abs(outputs - y))\n",
    "    MSE = tf.reduce_mean(tf.square(outputs - y))\n",
    "    exp_error = tf.reduce_mean(tf.subtract(tf.exp(tf.abs(outputs - y)), 1))\n",
    "\n",
    "    optimizer_fn = optimizers[optimizer_name]\n",
    "\n",
    "    if objective == 'MAE':\n",
    "        training_op = optimizer_fn(learning_rate=eta).minimize(MAE)\n",
    "    elif objective == 'MSE':\n",
    "        training_op = optimizer_fn(learning_rate=eta).minimize(MSE)\n",
    "    elif objective == 'exp_error':\n",
    "        training_op = optimizer_fn(learning_rate=eta).minimize(exp_error)\n",
    "\n",
    "    with tf.name_scope('MAE'):\n",
    "        train_mae = tf.summary.scalar('train', MAE)\n",
    "        val_mae = tf.summary.scalar('val', MAE)\n",
    "    with tf.name_scope('MSE'):\n",
    "        train_mse = tf.summary.scalar('train', MSE)\n",
    "        val_mse = tf.summary.scalar('val', MSE)\n",
    "\n",
    "    init = tf.global_variables_initializer()"
   ]
  },
  {
   "cell_type": "markdown",
   "metadata": {
    "_uuid": "8bde3a33cfcddcc42312209c624e21adbdd5df17"
   },
   "source": [
    "Train and evaluate the model."
   ]
  },
  {
   "cell_type": "code",
   "execution_count": 10,
   "metadata": {
    "_uuid": "c4e47c6102c1bf38717414ad63097c4f057c64a0"
   },
   "outputs": [
    {
     "data": {
      "application/vnd.jupyter.widget-view+json": {
       "model_id": "7cbfc03b3dc34151a973eccd6c3836cf",
       "version_major": 2,
       "version_minor": 0
      },
      "text/plain": [
       "HBox(children=(IntProgress(value=0, max=2000), HTML(value='')))"
      ]
     },
     "metadata": {},
     "output_type": "display_data"
    },
    {
     "name": "stdout",
     "output_type": "stream",
     "text": [
      "round 100 train MSE: 47.8309 train MAE: 5.5738 val MSE: 34.6843 val MAE: 4.8000 \n",
      "round 200 train MSE: 37.7047 train MAE: 4.9203 val MSE: 27.6358 val MAE: 4.0837 \n",
      "round 300 train MSE: 25.4760 train MAE: 3.9812 val MSE: 15.9003 val MAE: 3.2704 \n",
      "round 400 train MSE: 22.7982 train MAE: 3.8079 val MSE: 14.1406 val MAE: 3.0763 \n",
      "round 500 train MSE: 20.2086 train MAE: 3.6258 val MSE: 12.7854 val MAE: 2.9298 \n",
      "round 600 train MSE: 18.3226 train MAE: 3.4506 val MSE: 12.7609 val MAE: 2.9585 \n",
      "round 700 train MSE: 18.9698 train MAE: 3.5122 val MSE: 12.7034 val MAE: 2.9555 \n",
      "round 800 train MSE: 18.8971 train MAE: 3.5013 val MSE: 13.8188 val MAE: 3.0128 \n",
      "round 900 train MSE: 17.8651 train MAE: 3.3986 val MSE: 12.8971 val MAE: 2.9391 \n",
      "round 1000 train MSE: 18.1197 train MAE: 3.4730 val MSE: 11.7442 val MAE: 2.8292 \n",
      "round 1100 train MSE: 17.3262 train MAE: 3.4093 val MSE: 11.4931 val MAE: 2.8024 \n",
      "round 1200 train MSE: 17.0193 train MAE: 3.3976 val MSE: 12.6190 val MAE: 2.8763 \n",
      "round 1300 train MSE: 16.4739 train MAE: 3.3675 val MSE: 14.3515 val MAE: 2.8588 \n",
      "round 1400 train MSE: 19.5802 train MAE: 3.5113 val MSE: 10.9460 val MAE: 2.7530 \n",
      "round 1500 train MSE: 16.6675 train MAE: 3.3831 val MSE: 11.7798 val MAE: 2.8177 \n",
      "round 1600 train MSE: 17.0990 train MAE: 3.3674 val MSE: 11.1786 val MAE: 2.7877 \n",
      "round 1700 train MSE: 18.1247 train MAE: 3.3031 val MSE: 10.9240 val MAE: 2.7591 \n",
      "round 1800 train MSE: 16.0811 train MAE: 3.3129 val MSE: 10.6110 val MAE: 2.6771 \n",
      "round 1900 train MSE: 18.3158 train MAE: 3.4030 val MSE: 12.4822 val MAE: 2.8228 \n",
      "round 2000 train MSE: 16.7807 train MAE: 3.3183 val MSE: 10.9336 val MAE: 2.7425 \n",
      "\n"
     ]
    }
   ],
   "source": [
    "sess = tf.InteractiveSession(graph=graph)\n",
    "init.run(session=sess)\n",
    "\n",
    "for epoch in tnrange(n_epochs):\n",
    "    X_train, y_train = get_batch(\n",
    "        train_data, train_batch_size, downsample_rate, RAW_SEQ_LEN)\n",
    "    sess.run(training_op, feed_dict={X:X_train, y:y_train, train_flag:True})\n",
    "    if (epoch+1) % stdout_eval_interval == 0:\n",
    "        evals_out = {'train': {'mse': [], 'mae': []}, 'eval': {'mse': [], 'mae': []}}\n",
    "        for i in range(n_eval_batches):\n",
    "            X_train_batch, y_train_batch = get_batch(\n",
    "                train_data, train_batch_size, downsample_rate, RAW_SEQ_LEN)\n",
    "            evals_out['train']['mse'].append(MSE.eval(\n",
    "                feed_dict={X: X_train_batch, y: y_train_batch, train_flag:False}))\n",
    "            evals_out['train']['mae'].append(MAE.eval(\n",
    "                feed_dict={X: X_train_batch, y: y_train_batch, train_flag:False}))\n",
    "            X_val_batch, y_val_batch = get_batch(\n",
    "                val_data, eval_batch_size, downsample_rate, RAW_SEQ_LEN)\n",
    "            evals_out['eval']['mse'].append(MSE.eval(\n",
    "                feed_dict={X: X_val_batch, y: y_val_batch, train_flag:False}))\n",
    "            evals_out['eval']['mae'].append(MAE.eval(\n",
    "                feed_dict={X: X_val_batch, y: y_val_batch, train_flag:False}))\n",
    "        print(f\"round {epoch+1} \" +\n",
    "              f\"train MSE: {sum(evals_out['train']['mse'])/n_eval_batches:.4f} \" +\n",
    "              f\"train MAE: {sum(evals_out['train']['mae'])/n_eval_batches:.4f} \" +\n",
    "              f\"val MSE: {sum(evals_out['eval']['mse'])/n_eval_batches:.4f} \" +\n",
    "              f\"val MAE: {sum(evals_out['eval']['mae'])/n_eval_batches:.4f} \")"
   ]
  },
  {
   "cell_type": "code",
   "execution_count": 11,
   "metadata": {
    "_uuid": "ac363e77bf013a19b445c85c2239e3719ad353a4"
   },
   "outputs": [
    {
     "name": "stdout",
     "output_type": "stream",
     "text": [
      "total files 2624\n"
     ]
    },
    {
     "data": {
      "application/vnd.jupyter.widget-view+json": {
       "model_id": "35abfbab8d0541cbaeeb4a9b9e1c8c8d",
       "version_major": 2,
       "version_minor": 0
      },
      "text/plain": [
       "HBox(children=(IntProgress(value=0, max=10), HTML(value='')))"
      ]
     },
     "metadata": {},
     "output_type": "display_data"
    },
    {
     "name": "stdout",
     "output_type": "stream",
     "text": [
      "\n"
     ]
    },
    {
     "data": {
      "text/plain": [
       "(10, 2)"
      ]
     },
     "execution_count": 11,
     "metadata": {},
     "output_type": "execute_result"
    }
   ],
   "source": [
    "test_path = os.path.join(data_path, 'test')\n",
    "files = os.listdir(test_path)\n",
    "print('total files', len(files)) # 2624\n",
    "preds = {'seg_id': [], 'time_to_failure': []}\n",
    "for fname in tqdm_notebook(files[:10]):\n",
    "    path = os.path.join(test_path, fname)\n",
    "    obs = pd.read_csv(path).values.ravel()\n",
    "    obs = preprocess_obs(obs, obs_mean)\n",
    "    feats = get_feats((obs, downsample_rate)).reshape((1, DSAMP_SEQ_LEN, n_features))\n",
    "    pred = float(outputs.eval(feed_dict={X:feats}))\n",
    "    preds['time_to_failure'].append(pred)\n",
    "    preds['seg_id'].append(fname.split('.')[0])\n",
    "preds_df = pd.DataFrame(preds)\n",
    "preds_df.shape"
   ]
  },
  {
   "cell_type": "code",
   "execution_count": 12,
   "metadata": {
    "_uuid": "53055c572ad795b5877399a6b2304b8db55184bc"
   },
   "outputs": [],
   "source": [
    "preds_df.to_csv('submissions.csv', index=False)"
   ]
  }
 ],
 "metadata": {
  "kernelspec": {
   "display_name": "Python 3",
   "language": "python",
   "name": "python3"
  },
  "language_info": {
   "codemirror_mode": {
    "name": "ipython",
    "version": 3
   },
   "file_extension": ".py",
   "mimetype": "text/x-python",
   "name": "python",
   "nbconvert_exporter": "python",
   "pygments_lexer": "ipython3",
   "version": "3.6.8"
  }
 },
 "nbformat": 4,
 "nbformat_minor": 1
}
